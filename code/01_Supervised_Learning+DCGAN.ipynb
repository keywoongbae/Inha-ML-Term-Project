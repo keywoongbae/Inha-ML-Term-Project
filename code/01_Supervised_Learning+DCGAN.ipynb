{
  "cells": [
    {
      "cell_type": "markdown",
      "metadata": {
        "id": "VPvd__KzpdQX"
      },
      "source": [
        "#CIFAR-10 데이터 32*32사이즈 3072 DIMENSIONS\n",
        "#TRAIN SET 50000 TEST SET 10000\n",
        "#CLASS당 6000개"
      ]
    },
    {
      "cell_type": "code",
      "execution_count": null,
      "metadata": {
        "colab": {
          "base_uri": "https://localhost:8080/"
        },
        "id": "Darvfdt5K28z",
        "outputId": "b41dfc9e-ef4d-453d-f83d-1186dba52b32"
      },
      "outputs": [
        {
          "output_type": "stream",
          "name": "stdout",
          "text": [
            "0 upgraded, 0 newly installed, 0 to remove and 34 not upgraded.\n",
            "/usr/share/fonts: caching, new cache contents: 0 fonts, 1 dirs\n",
            "/usr/share/fonts/truetype: caching, new cache contents: 0 fonts, 3 dirs\n",
            "/usr/share/fonts/truetype/humor-sans: caching, new cache contents: 1 fonts, 0 dirs\n",
            "/usr/share/fonts/truetype/liberation: caching, new cache contents: 16 fonts, 0 dirs\n",
            "/usr/share/fonts/truetype/nanum: caching, new cache contents: 31 fonts, 0 dirs\n",
            "/usr/local/share/fonts: caching, new cache contents: 0 fonts, 0 dirs\n",
            "/root/.local/share/fonts: skipping, no such directory\n",
            "/root/.fonts: skipping, no such directory\n",
            "/usr/share/fonts/truetype: skipping, looped directory detected\n",
            "/usr/share/fonts/truetype/humor-sans: skipping, looped directory detected\n",
            "/usr/share/fonts/truetype/liberation: skipping, looped directory detected\n",
            "/usr/share/fonts/truetype/nanum: skipping, looped directory detected\n",
            "/var/cache/fontconfig: cleaning cache directory\n",
            "/root/.cache/fontconfig: not cleaning non-existent cache directory\n",
            "/root/.fontconfig: not cleaning non-existent cache directory\n",
            "fc-cache: succeeded\n"
          ]
        }
      ],
      "source": [
        "!sudo apt-get install -y fonts-nanum* | tail -n 1\n",
        "!sudo fc-cache -fv\n",
        "!rm -rf ~/.cache/matplotlib\n"
      ]
    },
    {
      "cell_type": "code",
      "execution_count": null,
      "metadata": {
        "colab": {
          "base_uri": "https://localhost:8080/"
        },
        "id": "azNkAfGCFOlt",
        "outputId": "9b21d81a-962a-42fe-c0cc-3bbdf42e0109"
      },
      "outputs": [
        {
          "output_type": "stream",
          "name": "stdout",
          "text": [
            "Requirement already satisfied: mpmath>=0.19 in /usr/local/lib/python3.10/dist-packages (from sympy->torch->torchviz) (1.3.0)\n",
            "Requirement already satisfied: torchinfo in /usr/local/lib/python3.10/dist-packages (1.8.0)\n"
          ]
        }
      ],
      "source": [
        "# 필요 라이브러리 설치\n",
        "\n",
        "!pip install torchviz | tail -n 1\n",
        "!pip install torchinfo | tail -n 1"
      ]
    },
    {
      "cell_type": "code",
      "execution_count": null,
      "metadata": {
        "id": "ZmHYYFuNYgrE"
      },
      "outputs": [],
      "source": [
        "import os\n",
        "import shutil\n",
        "import random\n",
        "import glob\n",
        "import time"
      ]
    },
    {
      "cell_type": "code",
      "execution_count": null,
      "metadata": {
        "id": "i0pgVSbaNcmj"
      },
      "outputs": [],
      "source": [
        "# 파이토치 관련 라이브러리\n",
        "\n",
        "import torch\n",
        "import torch.nn as nn\n",
        "import torch.optim as optim\n",
        "from torchinfo import summary\n",
        "from torchviz import make_dot\n",
        "import torchvision\n",
        "import torchvision.datasets as datasets\n",
        "import torchvision.transforms as transforms\n",
        "from torch.utils.data import DataLoader\n",
        "import torch.nn.functional as F\n",
        "from torchvision.utils import save_image\n",
        "from tqdm import tqdm"
      ]
    },
    {
      "cell_type": "code",
      "execution_count": null,
      "metadata": {
        "id": "RkhsTVBnHvlb"
      },
      "outputs": [],
      "source": [
        "import matplotlib.pyplot as plt\n",
        "import pandas as pd\n",
        "import numpy as np\n",
        "import random"
      ]
    },
    {
      "cell_type": "code",
      "execution_count": null,
      "metadata": {
        "colab": {
          "base_uri": "https://localhost:8080/"
        },
        "id": "Wn3HCIdnNwDt",
        "outputId": "7865b3c5-241d-4eff-ddb0-6f91a34437c0"
      },
      "outputs": [
        {
          "output_type": "stream",
          "name": "stdout",
          "text": [
            "cuda:0\n"
          ]
        }
      ],
      "source": [
        "# 디바이스 할당\n",
        "\n",
        "device = torch.device(\"cuda:0\" if torch.cuda.is_available() else \"cpu\")\n",
        "print(device)"
      ]
    },
    {
      "cell_type": "markdown",
      "metadata": {
        "id": "rnA2d5HZxjm9"
      },
      "source": [
        "0.5 0.5 0.5 변경가능합니다. CIFAR-10의 평균과 편차 ((0.4914, 0.4822, 0.4465), (0.2023, 0.1994, 0.2010)) "
      ]
    },
    {
      "cell_type": "code",
      "source": [
        "import augmix.augmentations as A\n",
        "import augmix.augmix as AM"
      ],
      "metadata": {
        "id": "LodREU9pzGUV",
        "colab": {
          "base_uri": "https://localhost:8080/",
          "height": 339
        },
        "outputId": "1d46c261-1f7c-4bf1-dd9d-83773acb139e"
      },
      "execution_count": null,
      "outputs": [
        {
          "output_type": "error",
          "ename": "ModuleNotFoundError",
          "evalue": "ignored",
          "traceback": [
            "\u001b[0;31m---------------------------------------------------------------------------\u001b[0m",
            "\u001b[0;31mModuleNotFoundError\u001b[0m                       Traceback (most recent call last)",
            "\u001b[0;32m<ipython-input-7-3d44c26538ba>\u001b[0m in \u001b[0;36m<cell line: 1>\u001b[0;34m()\u001b[0m\n\u001b[0;32m----> 1\u001b[0;31m \u001b[0;32mimport\u001b[0m \u001b[0maugmix\u001b[0m\u001b[0;34m.\u001b[0m\u001b[0maugmentations\u001b[0m \u001b[0;32mas\u001b[0m \u001b[0mA\u001b[0m\u001b[0;34m\u001b[0m\u001b[0;34m\u001b[0m\u001b[0m\n\u001b[0m\u001b[1;32m      2\u001b[0m \u001b[0;32mimport\u001b[0m \u001b[0maugmix\u001b[0m\u001b[0;34m.\u001b[0m\u001b[0maugmix\u001b[0m \u001b[0;32mas\u001b[0m \u001b[0mAM\u001b[0m\u001b[0;34m\u001b[0m\u001b[0;34m\u001b[0m\u001b[0m\n",
            "\u001b[0;31mModuleNotFoundError\u001b[0m: No module named 'augmix'",
            "",
            "\u001b[0;31m---------------------------------------------------------------------------\u001b[0;32m\nNOTE: If your import is failing due to a missing package, you can\nmanually install dependencies using either !pip or !apt.\n\nTo view examples of installing some common dependencies, click the\n\"Open Examples\" button below.\n\u001b[0;31m---------------------------------------------------------------------------\u001b[0m\n"
          ],
          "errorDetails": {
            "actions": [
              {
                "action": "open_url",
                "actionText": "Open Examples",
                "url": "/notebooks/snippets/importing_libraries.ipynb"
              }
            ]
          }
        }
      ]
    },
    {
      "cell_type": "markdown",
      "metadata": {
        "id": "S__Z6SxerTtc"
      },
      "source": [
        "224*224 사이즈(efficientnet) - PRO에서도 불가능합니다."
      ]
    },
    {
      "cell_type": "code",
      "execution_count": null,
      "metadata": {
        "id": "u1a6qqIcrSB2"
      },
      "outputs": [],
      "source": [
        "# 학습 데이터셋을 위한 변환기\n",
        "train_transform = transforms.Compose([\n",
        "    transforms.Resize((224, 224)),  # 이미지 크기를 224x224로 변경\n",
        "    transforms.RandomCrop(224, padding=4),  # 이미지를 무작위로 잘라내기\n",
        "    transforms.RandomHorizontalFlip(),  # 이미지를 무작위로 좌우 반전시키기\n",
        "    transforms.ToTensor(),  # 이미지를 텐서로 변환하기\n",
        "    transforms.Normalize((0.4914, 0.4822, 0.4465), (0.2023, 0.1994, 0.2010))  # 이미지를 정규화하기\n",
        "])\n",
        "\n",
        "# 테스트 데이터셋을 위한 변환기\n",
        "test_transform = transforms.Compose([\n",
        "    transforms.Resize((224, 224)),  # 이미지 크기를 224x224로 변경\n",
        "    transforms.ToTensor(),  # 이미지를 텐서로 변환하기\n",
        "    transforms.Normalize((0.4914, 0.4822, 0.4465), (0.2023, 0.1994, 0.2010))  # 이미지를 정규화하기\n",
        "])\n"
      ]
    },
    {
      "cell_type": "markdown",
      "metadata": {
        "id": "BWSPzMfJZtXe"
      },
      "source": [
        "32*32사이즈(resnet/drn)"
      ]
    },
    {
      "cell_type": "code",
      "execution_count": null,
      "metadata": {
        "id": "o78f5doBZsjy"
      },
      "outputs": [],
      "source": [
        "# 학습 데이터셋을 위한 변환기\n",
        "train_transform = transforms.Compose([\n",
        "    transforms.RandomCrop(32, padding=4),  # 이미지를 무작위로 잘라내기\n",
        "    transforms.RandomHorizontalFlip(),  # 이미지를 무작위로 좌우 반전시키기\n",
        "#    transforms.Resize(32),  # 이미지 크기를 32x32로 변경하기\n",
        "    transforms.ToTensor(),  # 이미지를 텐서로 변환하기\n",
        "    transforms.Normalize((0.4914, 0.4822, 0.4465), (0.2023, 0.1994, 0.2010))   # 이미지를 정규화하기\n",
        "])\n",
        "\n",
        "# 테스트 데이터셋을 위한 변환기\n",
        "test_transform = transforms.Compose([\n",
        "#    transforms.Resize(32),  # 이미지 크기를 32x32로 변경하기\n",
        "    transforms.ToTensor(),  # 이미지를 텐서로 변환하기\n",
        "    transforms.Normalize((0.4914, 0.4822, 0.4465), (0.2023, 0.1994, 0.2010))   # 이미지를 정규화하기\n",
        "])"
      ]
    },
    {
      "cell_type": "code",
      "execution_count": null,
      "metadata": {
        "colab": {
          "base_uri": "https://localhost:8080/"
        },
        "id": "GoF4jsMZHZoL",
        "outputId": "6e31a387-7b0e-43a4-ae79-cbd5bf1809c6"
      },
      "outputs": [
        {
          "output_type": "stream",
          "name": "stdout",
          "text": [
            "Files already downloaded and verified\n",
            "Files already downloaded and verified\n"
          ]
        }
      ],
      "source": [
        "trainset = datasets.CIFAR10(root='./data', train=True, download=True, transform=train_transform)\n",
        "train_loader = torch.utils.data.DataLoader(trainset, batch_size=128, shuffle=True, num_workers=2)\n",
        "\n",
        "\n",
        "testset = datasets.CIFAR10(root='./data', train=False, download=True, transform=test_transform)\n",
        "test_loader = torch.utils.data.DataLoader(testset, batch_size=100, shuffle=False, num_workers=2)\n",
        "\n",
        "\n",
        "#validset = datasets.CIFAR10(root='./data', train=False, download=True, transform=test_transform)\n",
        "#valid_loader = torch.utils.data.DataLoader(validset, batch_size=128, shuffle=True, num_workers=0)\n",
        "\n",
        "\n",
        "#NUM_WORKER = 작업자의 수/  NUM_WORKER 값을 증가시키면 CNN의 작업 처리 속도가 향상 /병렬\n",
        "#BUT, 너무 크다면, 시스템 자원의 한계로 인해 경쟁 발생 - > 속도 지연."
      ]
    },
    {
      "cell_type": "markdown",
      "source": [],
      "metadata": {
        "id": "vohWf27XYiKc"
      }
    },
    {
      "cell_type": "markdown",
      "metadata": {
        "id": "Ef7XTQ0-9pAu"
      },
      "source": [
        "https://blog.testworks.co.kr/importance_of_gan_in_ai_dataset_building/"
      ]
    },
    {
      "cell_type": "markdown",
      "source": [
        "#이미지 증강 기법은 다양성의 차이 데이터수는 고정이며, 데이터 보강 기법은 데이터를 보강하며, 이미지의 구조와 특징을 재구성하여 생성함."
      ],
      "metadata": {
        "id": "td13aB1DYXOy"
      }
    },
    {
      "cell_type": "markdown",
      "metadata": {
        "id": "Vn2UWUHjHNoO"
      },
      "source": [
        "#CGAN ( Convolutional Generative Adversarial Network) (EPOCH 104부터 과적합 발생)\n",
        "\n",
        "\n",
        "#- 돌릴 필요 없음. 결과 안좋아서 삭제.\n",
        "\n",
        "https://jksronline.org/pdf/10.3348/jksr.2020.0158\n",
        "\n",
        "\n",
        "https://deep-learning-study.tistory.com/640\n",
        "\n",
        "https://ddongwon.tistory.com/126\n",
        "\n",
        "\n",
        "64*64를 쓰기 때문에, 기존 데이터셋에 합칠 경우 32*32변환을 해줘야함."
      ]
    },
    {
      "cell_type": "code",
      "source": [
        "from torchvision.datasets import CIFAR10\n",
        "from torchvision.utils import save_image\n",
        "\n",
        "\n",
        "# 하이퍼파라미터 설정\n",
        "latent_size = 100\n",
        "hidden_size = 64\n",
        "image_size = 64\n",
        "num_epochs = 103\n",
        "batch_size = 128\n",
        "sample_dir = \"C:/Users/DESKTOP/Desktop\"\n",
        "\n",
        "\n",
        "# 변환기(transforms) 설정\n",
        "transform = transforms.Compose([\n",
        "    transforms.Resize((image_size, image_size)),  # 이미지 크기 변경\n",
        "    transforms.ToTensor(),\n",
        "    transforms.Normalize((0.5, 0.5, 0.5), (0.5, 0.5, 0.5))\n",
        "])\n",
        "\n",
        "\n",
        "# CIFAR-10 데이터셋 다운로드\n",
        "cifar_dataset = datasets.CIFAR10(root=\"./data\", train=True, transform=transform, download=True)\n",
        "\n",
        "# 데이터로더 설정\n",
        "data_loader = DataLoader(dataset=cifar_dataset, batch_size=batch_size, shuffle=True)"
      ],
      "metadata": {
        "id": "57O15Bqiwu2c"
      },
      "execution_count": null,
      "outputs": []
    },
    {
      "cell_type": "code",
      "source": [
        "# 생성자 클래스 정의\n",
        "class Generator(nn.Module):\n",
        "    def __init__(self, latent_size, hidden_size, image_size):\n",
        "        super(Generator, self).__init__()\n",
        "        self.latent_size = latent_size\n",
        "        self.hidden_size = hidden_size\n",
        "        self.image_size = image_size\n",
        "        \n",
        "        self.main = nn.Sequential(\n",
        "            nn.ConvTranspose2d(self.latent_size, self.hidden_size * 8, 4, 1, 0, bias=False),\n",
        "            nn.BatchNorm2d(self.hidden_size * 8),\n",
        "            nn.ReLU(True),\n",
        "            \n",
        "            nn.ConvTranspose2d(self.hidden_size * 8, self.hidden_size * 4, 4, 2, 1, bias=False),\n",
        "            nn.BatchNorm2d(self.hidden_size * 4),\n",
        "            nn.ReLU(True),\n",
        "            \n",
        "            nn.ConvTranspose2d(self.hidden_size * 4, self.hidden_size * 2, 4, 2, 1, bias=False),\n",
        "            nn.BatchNorm2d(self.hidden_size * 2),\n",
        "            nn.ReLU(True),\n",
        "            \n",
        "            nn.ConvTranspose2d(self.hidden_size * 2, self.hidden_size, 4, 2, 1, bias=False),\n",
        "            nn.BatchNorm2d(self.hidden_size),\n",
        "            nn.ReLU(True),\n",
        "            \n",
        "            nn.ConvTranspose2d(self.hidden_size, 3, 4, 2, 1, bias=False),\n",
        "            nn.Tanh()\n",
        "        )\n",
        "        \n",
        "    def forward(self, x):\n",
        "        return self.main(x)\n",
        "\n",
        "# 판별자 클래스 정의\n",
        "class Discriminator(nn.Module):\n",
        "    def __init__(self, hidden_size, image_size):\n",
        "        super(Discriminator, self).__init__()\n",
        "        self.hidden_size = hidden_size\n",
        "        self.image_size = image_size\n",
        "        \n",
        "        self.main = nn.Sequential(\n",
        "            nn.Conv2d(3, self.hidden_size, 4, 2, 1, bias=False),\n",
        "            nn.LeakyReLU(0.2, inplace=True),\n",
        "            \n",
        "            nn.Conv2d(self.hidden_size, self.hidden_size * 2, 4, 2, 1, bias=False),\n",
        "            nn.BatchNorm2d(self.hidden_size * 2),\n",
        "            nn.LeakyReLU(0.2, inplace=True),\n",
        "            \n",
        "            nn.Conv2d(self.hidden_size * 2, self.hidden_size * 4, 4, 2, 1, bias=False),\n",
        "            nn.BatchNorm2d(self.hidden_size * 4),\n",
        "            nn.LeakyReLU(0.2, inplace=True),\n",
        "            \n",
        "            nn.Conv2d(self.hidden_size * 4, self.hidden_size * 8, 4, 2, 1, bias=False),\n",
        "            nn.BatchNorm2d(self.hidden_size * 8),\n",
        "            nn.LeakyReLU(0.2, inplace=True),\n",
        "            \n",
        "            nn.Conv2d(self.hidden_size * 8, 1, 4, 1, 0, bias=False),\n",
        "            nn.Sigmoid()\n",
        "        )\n",
        "        \n",
        "    def forward(self, x):\n",
        "        return self.main(x).view(-1, 1)"
      ],
      "metadata": {
        "id": "nsCaSLKrw08B"
      },
      "execution_count": null,
      "outputs": []
    },
    {
      "cell_type": "code",
      "source": [
        "# 생성자와 판별자 초기화\n",
        "generator = Generator(latent_size, hidden_size, image_size).to(device)\n",
        "discriminator = Discriminator(hidden_size, image_size).to(device)\n",
        "\n",
        "# 손실 함수 및 최적화 알고리즘 설정\n",
        "criterion = nn.BCELoss()\n",
        "optimizer_G = optim.Adam(generator.parameters(), lr=0.0002, betas=(0.5, 0.999))\n",
        "optimizer_D = optim.Adam(discriminator.parameters(), lr=0.0002, betas=(0.5, 0.999))\n",
        "\n",
        "# 생성된 이미지를 저장할 폴더 생성\n",
        "import os\n",
        "os.makedirs(sample_dir, exist_ok=True)\n",
        "\n",
        "# 진행 상황을 출력하는 헬퍼 함수\n",
        "def progress_bar(current, total, prefix=\"\"):\n",
        "    percent = \"{:.1f}\".format(100 * (current / float(total)))\n",
        "    filled_length = int(50 * current // total)\n",
        "    bar = \"#\" * filled_length + \"-\" * (50 - filled_length)\n",
        "    print(f\"\\r{prefix} |{bar}| {percent}% completed\", end=\"\\r\")\n",
        "    if current == total:\n",
        "        print()\n"
      ],
      "metadata": {
        "id": "cvUXGTAVw2d3"
      },
      "execution_count": null,
      "outputs": []
    },
    {
      "cell_type": "code",
      "source": [
        "# 훈련 시작\n",
        "total_step = len(data_loader)\n",
        "for epoch in range(num_epochs):\n",
        "    for i, (images, _) in enumerate(data_loader):\n",
        "        batch_size = images.size(0)\n",
        "        images = images.to(device)\n",
        "        \n",
        "        # 진짜 이미지에 대한 레이블\n",
        "        real_labels = torch.ones(batch_size, 1).to(device)\n",
        "        # 가짜 이미지에 대한 레이블\n",
        "        fake_labels = torch.zeros(batch_size, 1).to(device)\n",
        "        \n",
        "        # 판별자 훈련\n",
        "        # 진짜 이미지 판별\n",
        "        outputs = discriminator(images)\n",
        "        d_loss_real = criterion(outputs, real_labels)\n",
        "        real_score = torch.mean(outputs).item()\n",
        "        \n",
        "        # 가짜 이미지 생성 및 판별\n",
        "        z = torch.randn(batch_size, latent_size, 1, 1).to(device)\n",
        "        fake_images = generator(z)\n",
        "        outputs = discriminator(fake_images.detach())\n",
        "        d_loss_fake = criterion(outputs, fake_labels)\n",
        "        fake_score = torch.mean(outputs).item()\n",
        "        \n",
        "        # 판별자 손실 계산 및 역전파\n",
        "        d_loss = d_loss_real + d_loss_fake\n",
        "        optimizer_D.zero_grad()\n",
        "        d_loss.backward()\n",
        "        optimizer_D.step()\n",
        "        \n",
        "        # 생성자 훈련\n",
        "        # 가짜 이미지 생성 및 판별\n",
        "        outputs = discriminator(fake_images)\n",
        "        g_loss = criterion(outputs, real_labels)\n",
        "        \n",
        "        # 생성자 손실 계산 및 역전파\n",
        "        optimizer_G.zero_grad()\n",
        "        g_loss.backward()\n",
        "        optimizer_G.step()\n",
        "        \n",
        "        # 진행 상황 출력\n",
        "        progress_bar(i+1, total_step, f\"Epoch [{epoch+1}/{num_epochs}], Step [{i+1}/{total_step}], \"\n",
        "                                      f\"Generator Loss: {g_loss.item():.4f}, Discriminator Loss: {d_loss.item():.4f}\")\n",
        "        \n",
        "    # 에폭마다 생성된 이미지 저장\n",
        "    with torch.no_grad():\n",
        "        z = torch.randn(16, latent_size, 1, 1).to(device)\n",
        "        fake_images = generator(z)\n",
        "        fake_images = (fake_images + 1) / 2\n",
        "        save_image(fake_images, os.path.join(sample_dir, f\"generated_{epoch+1}.png\"), nrow=4, normalize=True)\n",
        "\n",
        "# 학습 완료 후 생성된 이미지 저장\n",
        "with torch.no_grad():\n",
        "    z = torch.randn(16, latent_size, 1, 1).to(device)\n",
        "    fake_images = generator(z)\n",
        "    fake_images = (fake_images + 1) / 2\n",
        "    save_image(fake_images, os.path.join(sample_dir, \"final_generated.png\"), nrow=4, normalize=True)\n",
        "\n",
        "print(\"Training completed!\")"
      ],
      "metadata": {
        "id": "PlCv36v0w3us"
      },
      "execution_count": null,
      "outputs": []
    },
    {
      "cell_type": "code",
      "source": [
        "from torchvision.transforms import ToTensor\n",
        "from PIL import Image\n",
        "import os\n",
        "from torch.utils.data import TensorDataset\n",
        "\n",
        "transform = ToTensor()\n",
        "\n",
        "generated_images = []\n",
        "\n",
        "# 디렉토리 내의 파일 목록을 확인하고 이미지 파일들을 로드하여 Tensor로 변환\n",
        "for image_file in os.listdir(sample_dir):\n",
        "    image_path = os.path.join(sample_dir, image_file)\n",
        "    image = Image.open(image_path)\n",
        "    image = transform(image)\n",
        "    generated_images.append(image)\n",
        "\n",
        "# 생성된 이미지 데이터를 TensorDataset으로 변환\n",
        "generated_dataset = TensorDataset(*generated_images)\n"
      ],
      "metadata": {
        "id": "hqsLSilTw9xf"
      },
      "execution_count": null,
      "outputs": []
    },
    {
      "cell_type": "code",
      "source": [
        "import matplotlib.pyplot as plt\n",
        "\n",
        "# 이미지를 크게 보여주기 위해 행과 열의 개수 설정\n",
        "num_rows = 5\n",
        "num_cols = 4\n",
        "\n",
        "# 이미지를 그리드 형태로 시각화\n",
        "fig, axes = plt.subplots(nrows=num_rows, ncols=num_cols, figsize=(12, 12))\n",
        "\n",
        "for i, ax in enumerate(axes.flatten()):\n",
        "    if i < len(generated_images):\n",
        "        image = generated_images[i].permute(1, 2, 0)  # 이미지의 차원 순서 변경 (C, H, W) -> (H, W, C)\n",
        "        ax.imshow(image)\n",
        "        ax.axis('off')\n",
        "\n",
        "plt.tight_layout()\n",
        "plt.show()\n"
      ],
      "metadata": {
        "id": "OGp9Qx47w76x"
      },
      "execution_count": null,
      "outputs": []
    },
    {
      "cell_type": "code",
      "source": [
        "from torchvision.transforms import ToTensor\n",
        "from PIL import Image\n",
        "import os\n",
        "from torch.utils.data import TensorDataset\n",
        "\n",
        "transform = ToTensor()\n",
        "\n",
        "generated_images = []\n",
        "\n",
        "# 디렉토리 내의 파일 목록을 확인하고 이미지 파일들을 로드하여 Tensor로 변환\n",
        "for image_file in os.listdir(sample_dir):\n",
        "    image_path = os.path.join(sample_dir, image_file)\n",
        "    image = Image.open(image_path)\n",
        "    image = transform(image)\n",
        "    generated_images.append(image)\n",
        "\n",
        "# 생성된 이미지 데이터를 TensorDataset으로 변환\n",
        "generated_dataset = TensorDataset(*generated_images)"
      ],
      "metadata": {
        "id": "w-OBiMIUw6uc"
      },
      "execution_count": null,
      "outputs": []
    },
    {
      "cell_type": "markdown",
      "source": [
        "#-> 결과 안좋아서 삭제."
      ],
      "metadata": {
        "id": "VcKbVyo0wsOK"
      }
    },
    {
      "cell_type": "markdown",
      "source": [
        "#AUTOENCONDER - 이거 돌려야함"
      ],
      "metadata": {
        "id": "c0zo3npkwppW"
      }
    },
    {
      "cell_type": "code",
      "source": [
        "import torch\n",
        "import torch.nn as nn\n",
        "import torch.optim as optim\n",
        "import torchvision.datasets as datasets\n",
        "import torchvision.transforms as transforms\n",
        "from torch.utils.data import DataLoader\n",
        "\n",
        "# Define Autoencoder network\n",
        "class Autoencoder(nn.Module):\n",
        "    def __init__(self):\n",
        "        super(Autoencoder, self).__init__()\n",
        "        self.encoder = nn.Sequential(\n",
        "            nn.Conv2d(3, 16, kernel_size=3, stride=2, padding=1),\n",
        "            nn.ReLU(),\n",
        "            nn.Conv2d(16, 32, kernel_size=3, stride=2, padding=1),\n",
        "            nn.ReLU(),\n",
        "            nn.Conv2d(32, 64, kernel_size=3, stride=2, padding=1),\n",
        "            nn.ReLU(),\n",
        "            nn.Flatten(),\n",
        "            nn.Linear(64 * 4 * 4, 256),\n",
        "            nn.ReLU()\n",
        "        )\n",
        "        self.decoder = nn.Sequential(\n",
        "            nn.Linear(256, 64 * 4 * 4),\n",
        "            nn.ReLU(),\n",
        "            nn.Unflatten(1, (64, 4, 4)),\n",
        "            nn.ConvTranspose2d(64, 32, kernel_size=4, stride=2, padding=1),\n",
        "            nn.ReLU(),\n",
        "            nn.ConvTranspose2d(32, 16, kernel_size=4, stride=2, padding=1),\n",
        "            nn.ReLU(),\n",
        "            nn.ConvTranspose2d(16, 3, kernel_size=4, stride=2, padding=1),\n",
        "            nn.Tanh()\n",
        "#           nn.Sigmoid()  # Tanh 대신 Sigmoid 사용\n",
        "        )\n",
        "\n",
        "    def forward(self, x):\n",
        "        encoded = self.encoder(x)\n",
        "        decoded = self.decoder(encoded)\n",
        "        return decoded\n",
        "\n",
        "# Hyperparameters\n",
        "batch_size = 128\n",
        "num_epochs = 300\n",
        "learning_rate = 0.001\n",
        "\n",
        "# Load CIFAR-10 dataset\n",
        "transform = transforms.Compose([\n",
        "    transforms.ToTensor(),\n",
        "    transforms.Normalize((0.5, 0.5, 0.5), (0.5, 0.5, 0.5))\n",
        "])\n",
        "\n",
        "train_dataset = datasets.CIFAR10(root='./data', train=True, download=True, transform=transform)\n",
        "train_dataloader = DataLoader(train_dataset, batch_size=batch_size, shuffle=True)\n",
        "\n",
        "# Initialize Autoencoder\n",
        "autoencoder = Autoencoder().cuda()\n",
        "\n",
        "# Loss function\n",
        "criterion = nn.MSELoss()\n",
        "\n",
        "# Optimizer\n",
        "optimizer = optim.Adam(autoencoder.parameters(), lr=learning_rate)\n",
        "\n",
        "#optimizer = optim.SGD(autoencoder.parameters(), lr=0.01, momentum=0.9, weight_decay=5e-4)\n",
        "\n",
        "# Training loop\n",
        "for epoch in range(num_epochs):\n",
        "    for i, (images, _) in enumerate(train_dataloader):\n",
        "        images = images.cuda()\n",
        "\n",
        "        # Forward pass\n",
        "        reconstructed = autoencoder(images)\n",
        "        loss = criterion(reconstructed, images)\n",
        "\n",
        "        # Backward pass and optimization\n",
        "        optimizer.zero_grad()\n",
        "        loss.backward()\n",
        "        optimizer.step()\n",
        "\n",
        "        # Print loss every 100 steps\n",
        "        if (i+1) % 100 == 0:\n",
        "            print(f\"Epoch [{epoch+1}/{num_epochs}], Step [{i+1}/{len(train_dataloader)}], Loss: {loss.item():.4f}\")\n",
        "\n",
        "# Generate augmented data using the trained autoencoder\n",
        "augmented_data = []\n",
        "augmented_labels = []\n",
        "\n",
        "for images, labels in train_dataloader:\n",
        "    images = images.cuda()\n",
        "    augmented_images = autoencoder(images).detach().cpu()\n",
        "    augmented_data.append(augmented_images)\n",
        "    augmented_labels.extend(labels)\n",
        "\n",
        "augmented_data = torch.cat(augmented_data, dim=0)\n",
        "\n",
        "# Save augmented data and labels\n",
        "torch.save(augmented_data, \"augmented_data.pt\")\n",
        "torch.save(augmented_labels, \"augmented_labels.pt\")\n",
        "\n"
      ],
      "metadata": {
        "id": "SULc3xuVplpO"
      },
      "execution_count": null,
      "outputs": []
    },
    {
      "cell_type": "markdown",
      "source": [
        "#RESNET 모델 사용 <_ 왜인지는 모르겠지만 로스가 줄어들지않으며 이미지 또한 검음\n",
        "\n",
        "https://deepinsight.tistory.com/126"
      ],
      "metadata": {
        "id": "563P_fN97vFs"
      }
    },
    {
      "cell_type": "code",
      "source": [
        "import torch\n",
        "import torch.nn as nn\n",
        "import torch.optim as optim\n",
        "import torchvision.datasets as datasets\n",
        "import torchvision.transforms as transforms\n",
        "from torch.utils.data import DataLoader\n",
        "from torchvision.models import resnet18\n",
        "\n",
        "\n",
        "# Define Autoencoder network\n",
        "class Autoencoder(nn.Module):\n",
        "    def __init__(self):\n",
        "        super(Autoencoder, self).__init__()\n",
        "        self.encoder = nn.Sequential(\n",
        "            nn.Conv2d(3, 16, kernel_size=3, stride=2, padding=1),\n",
        "            nn.ReLU(),\n",
        "            nn.Conv2d(16, 32, kernel_size=3, stride=2, padding=1),\n",
        "            nn.ReLU(),\n",
        "            nn.Conv2d(32, 64, kernel_size=3, stride=2, padding=1),\n",
        "            nn.ReLU(),\n",
        "            nn.Flatten(),\n",
        "            nn.Linear(64 * 4 * 4, 256),\n",
        "            nn.ReLU()\n",
        "        )\n",
        "        self.decoder = nn.Sequential(\n",
        "            nn.Linear(256, 64 * 4 * 4),\n",
        "            nn.ReLU(),\n",
        "            nn.Unflatten(1, (64, 4, 4)),\n",
        "            nn.ConvTranspose2d(64, 32, kernel_size=4, stride=2, padding=1),\n",
        "            nn.ReLU(),\n",
        "            nn.ConvTranspose2d(32, 16, kernel_size=4, stride=2, padding=1),\n",
        "            nn.ReLU(),\n",
        "            nn.ConvTranspose2d(16, 3, kernel_size=4, stride=2, padding=1),\n",
        "            nn.Tanh()\n",
        "        )\n",
        "\n",
        "    def forward(self, x):\n",
        "        encoded = self.encoder(x)\n",
        "        decoded = self.decoder(encoded)\n",
        "        return decoded\n",
        "\n",
        "# Hyperparameters\n",
        "batch_size = 128\n",
        "num_epochs = 20\n",
        "learning_rate = 0.001\n",
        "\n",
        "# Load CIFAR-10 dataset\n",
        "transform = transforms.Compose([\n",
        "    transforms.Resize((32, 32)),\n",
        "    transforms.ToTensor(),\n",
        "    transforms.Normalize((0.5, 0.5, 0.5), (0.5, 0.5, 0.5))\n",
        "])\n",
        "\n",
        "train_dataset = datasets.CIFAR10(root='./data', train=True, download=True, transform=transform)\n",
        "train_dataloader = DataLoader(train_dataset, batch_size=batch_size, shuffle=True)\n",
        "\n",
        "# Initialize Autoencoder\n",
        "autoencoder = Autoencoder().cuda()\n",
        "\n",
        "\n",
        "# Pre-trained ResNet model\n",
        "resnet_model = torchvision.models.resnet18(pretrained=True)\n",
        "resnet_model = nn.Sequential(*list(resnet_model.children())[:-1]).cuda()\n",
        "\n",
        "# Loss functions\n",
        "criterion_mse = nn.MSELoss()\n",
        "criterion_structural = nn.L1Loss()\n",
        "criterion_perceptual = nn.MSELoss()\n",
        "\n",
        "# Optimizer\n",
        "optimizer = optim.Adam(autoencoder.parameters(), lr=learning_rate)\n",
        "\n",
        "# Training loop\n",
        "for epoch in range(num_epochs):\n",
        "    for i, (images, _) in enumerate(train_dataloader):\n",
        "        images = images.cuda()\n",
        "\n",
        "        # Forward pass\n",
        "        reconstructed = autoencoder(images)\n",
        "\n",
        "        # Compute reconstruction loss\n",
        "        loss_mse = criterion_mse(reconstructed, images)\n",
        "        loss_structural = criterion_structural(reconstructed, images)\n",
        "\n",
        "        # Compute Perceptual Loss\n",
        "        features_reconstructed = resnet_model(reconstructed)\n",
        "        features_original = resnet_model(images)\n",
        "        loss_perceptual = criterion_perceptual(features_reconstructed, features_original)\n",
        "\n",
        "        # Total loss\n",
        "        loss = loss_mse + loss_structural + loss_perceptual\n",
        "\n",
        "        # Backward pass and optimization\n",
        "        optimizer.zero_grad()\n",
        "        loss.backward()\n",
        "        optimizer.step()\n",
        "\n",
        "        # Print loss every 100 steps\n",
        "        if (i+1) % 100 == 0:\n",
        "            print(f\"Epoch [{epoch+1}/{num_epochs}], Step [{i+1}/{len(train_dataloader)}], Loss: {loss.item():.4f}\")\n",
        "\n",
        "# Generate augmented data using the trained autoencoder\n",
        "augmented_data = []\n",
        "augmented_labels = []\n",
        "\n",
        "for images, labels in train_dataloader:\n",
        "    images = images.cuda()\n",
        "    augmented_images = autoencoder(images).detach().cpu()\n",
        "    augmented_data.append(augmented_images)\n",
        "    augmented_labels.extend(labels)\n",
        "\n",
        "augmented_data = torch.cat(augmented_data, dim=0)\n",
        "\n",
        "# Save augmented data and labels\n",
        "torch.save(augmented_data, \"augmented_data.pt\")\n",
        "torch.save(augmented_labels, \"augmented_labels.pt\")\n"
      ],
      "metadata": {
        "id": "EM8PTxw43muL"
      },
      "execution_count": null,
      "outputs": []
    },
    {
      "cell_type": "code",
      "source": [
        "# Save augmented labels\n",
        "torch.save(augmented_labels, \"augmented_labels.pt\")"
      ],
      "metadata": {
        "id": "qwUdOJgPfsun"
      },
      "execution_count": null,
      "outputs": []
    },
    {
      "cell_type": "code",
      "source": [
        "# Load augmented data\n",
        "augmented_data = torch.load(\"augmented_data.pt\")\n",
        "augmented_labels = torch.load(\"augmented_labels.pt\")"
      ],
      "metadata": {
        "id": "blnLQYcEsXB4"
      },
      "execution_count": null,
      "outputs": []
    },
    {
      "cell_type": "code",
      "source": [
        "from torch.utils.data import ConcatDataset\n",
        "\n",
        "# Create a custom dataset for augmented data\n",
        "class AugmentedDataset(torch.utils.data.Dataset):\n",
        "    def __init__(self, data, labels):\n",
        "        self.data = data\n",
        "        self.labels = labels\n",
        "\n",
        "    def __getitem__(self, index):\n",
        "        return self.data[index], self.labels[index]\n",
        "\n",
        "    def __len__(self):\n",
        "        return len(self.data)"
      ],
      "metadata": {
        "id": "gCUuUWXlf-Lj"
      },
      "execution_count": null,
      "outputs": []
    },
    {
      "cell_type": "code",
      "source": [
        "# Create augmented dataset\n",
        "augmented_dataset = AugmentedDataset(augmented_data, augmented_labels)\n",
        "\n",
        "# Concatenate augmented dataset with original CIFAR-10 dataset\n",
        "new_train_dataset = ConcatDataset([train_dataset, augmented_dataset])"
      ],
      "metadata": {
        "id": "jSQYwhw9gK0r"
      },
      "execution_count": null,
      "outputs": []
    },
    {
      "cell_type": "code",
      "source": [
        "# 데이터셋 확인\n",
        "for i in range(len(augmented_dataset)):\n",
        "    data, label = augmented_dataset[i]\n",
        "    print(f\"Data {i}: {data.shape}, Label: {label}\")"
      ],
      "metadata": {
        "id": "V813DHR73lEn"
      },
      "execution_count": null,
      "outputs": []
    },
    {
      "cell_type": "code",
      "source": [
        "# Select a subset of samples to visualize\n",
        "num_samples = 5\n",
        "subset_indices = random.sample(range(len(augmented_dataset)), num_samples)\n",
        "\n",
        "# Visualize augmented dataset samples\n",
        "fig, axes = plt.subplots(1, num_samples, figsize=(12, 6))\n",
        "for i, idx in enumerate(subset_indices):\n",
        "    image, label = augmented_dataset[idx]\n",
        "    image = image.permute(1, 2, 0)  # (C, H, W) -> (H, W, C)\n",
        "    axes[i].imshow(image)\n",
        "    axes[i].set_title(f\"Label: {label}\")\n",
        "    axes[i].axis('off')\n",
        "\n",
        "plt.tight_layout()\n",
        "plt.show()"
      ],
      "metadata": {
        "id": "TA8kd4YOhL1D"
      },
      "execution_count": null,
      "outputs": []
    },
    {
      "cell_type": "code",
      "source": [
        "# Select a subset of samples to visualize\n",
        "num_samples = 5\n",
        "subset_indices = random.sample(range(len(train_dataset)), num_samples)\n",
        "\n",
        "# Visualize augmented dataset samples\n",
        "fig, axes = plt.subplots(1, num_samples, figsize=(12, 6))\n",
        "for i, idx in enumerate(subset_indices):\n",
        "    image, label = augmented_dataset[idx]\n",
        "    image = image.permute(1, 2, 0)  # (C, H, W) -> (H, W, C)\n",
        "    axes[i].imshow(image)\n",
        "    axes[i].set_title(f\"Label: {label}\")\n",
        "    axes[i].axis('off')\n",
        "\n",
        "plt.tight_layout()\n",
        "plt.show()"
      ],
      "metadata": {
        "id": "utNePxvJq3gj"
      },
      "execution_count": null,
      "outputs": []
    },
    {
      "cell_type": "code",
      "source": [
        "train_loader = torch.utils.data.DataLoader(new_train_dataset, batch_size=128, shuffle=True, num_workers=2)"
      ],
      "metadata": {
        "id": "RG-TtCgcv6Le"
      },
      "execution_count": null,
      "outputs": []
    },
    {
      "cell_type": "code",
      "source": [
        "def collate_fn(batch):\n",
        "    data = torch.stack([item[0] for item in batch])\n",
        "    labels = torch.tensor([item[1] for item in batch])\n",
        "    return data, labels\n",
        "\n",
        "# 데이터 로더 확인\n",
        "train_loader = torch.utils.data.DataLoader(new_train_dataset, batch_size=128, shuffle=True, num_workers=2, collate_fn=collate_fn)\n"
      ],
      "metadata": {
        "id": "JKRUul-04Ca-"
      },
      "execution_count": null,
      "outputs": []
    },
    {
      "cell_type": "code",
      "source": [
        "# 데이터 로더 확인\n",
        "for batch_idx, (data, label) in enumerate(train_loader):\n",
        "    print(f\"Batch {batch_idx}: {data.shape}, Labels: {label}\")"
      ],
      "metadata": {
        "id": "MXnLmxjF32Jd"
      },
      "execution_count": null,
      "outputs": []
    },
    {
      "cell_type": "code",
      "source": [
        "testset = datasets.CIFAR10(root='./data', train=False, download=True, transform=test_transform)\n",
        "test_loader = torch.utils.data.DataLoader(testset, batch_size=100, shuffle=False, num_workers=2)"
      ],
      "metadata": {
        "id": "KKZVXAtSrIqY"
      },
      "execution_count": null,
      "outputs": []
    },
    {
      "cell_type": "code",
      "source": [
        "len(new_train_dataset)"
      ],
      "metadata": {
        "id": "AlN7ykSStK__"
      },
      "execution_count": null,
      "outputs": []
    },
    {
      "cell_type": "markdown",
      "metadata": {
        "id": "cctUU39F9ZUu"
      },
      "source": [
        "https://blog.naver.com/bossamb/222414965222\n",
        "http://www.koreascience.or.kr/article/CFKO202232249421412.pdf"
      ]
    },
    {
      "cell_type": "markdown",
      "metadata": {
        "id": "TMrww-hptXfu"
      },
      "source": [
        "#CLASS 정의"
      ]
    },
    {
      "cell_type": "code",
      "execution_count": null,
      "metadata": {
        "id": "IQXt9gvabn-9"
      },
      "outputs": [],
      "source": [
        "# 정답 라벨 정의\n",
        "classes = ('plane', 'car', 'bird', 'cat',\n",
        "           'deer', 'dog', 'frog', 'horse', 'ship', 'truck')"
      ]
    },
    {
      "cell_type": "code",
      "execution_count": null,
      "metadata": {
        "id": "IZCBpIVNkh8g"
      },
      "outputs": [],
      "source": [
        "for i, class_name in enumerate(classes):\n",
        "    print(i, class_name)"
      ]
    },
    {
      "cell_type": "markdown",
      "metadata": {
        "id": "LLiDi7KEXVZF"
      },
      "source": [
        "#데이터 미리 확인"
      ]
    },
    {
      "cell_type": "code",
      "execution_count": null,
      "metadata": {
        "id": "B9VKyb-ESOT_"
      },
      "outputs": [],
      "source": [
        "# 이미지와 라벨 표시\n",
        "def show_images_labels(loader, classes, net, device):\n",
        "\n",
        "    # 데이터로더에서 처음 1세트를 가져오기\n",
        "    for images, labels in loader:\n",
        "        break\n",
        "    # 표시 수는 50개\n",
        "    n_size = min(len(images), 50)\n",
        "\n",
        "    if net is not None:\n",
        "      # 디바이스 할당\n",
        "      inputs = images.to(device)\n",
        "      labels = labels.to(device)\n",
        "\n",
        "      # 예측 계산\n",
        "      outputs = net(inputs)\n",
        "      predicted = torch.max(outputs,1)[1]\n",
        "      #images = images.to('cpu')\n",
        "\n",
        "    # 처음 n_size개 표시\n",
        "    plt.figure(figsize=(20, 15))\n",
        "    for i in range(n_size):\n",
        "        ax = plt.subplot(5, 10, i + 1)\n",
        "        label_name = classes[labels[i]]\n",
        "        # net이 None이 아닌 경우는 예측 결과도 타이틀에 표시함\n",
        "        if net is not None:\n",
        "          predicted_name = classes[predicted[i]]\n",
        "          # 정답인지 아닌지 색으로 구분함\n",
        "          if label_name == predicted_name:\n",
        "            c = 'k'\n",
        "          else:\n",
        "            c = 'b'\n",
        "          ax.set_title(label_name + ':' + predicted_name, c=c, fontsize=20)\n",
        "        # net이 None인 경우는 정답 라벨만 표시\n",
        "        else:\n",
        "          ax.set_title(label_name, fontsize=20)\n",
        "        # 텐서를 넘파이로 변환\n",
        "        image_np = images[i].numpy().copy()\n",
        "        # 축의 순서 변경 (channel, row, column) -> (row, column, channel)\n",
        "        img = np.transpose(image_np, (1, 2, 0))\n",
        "        # 값의 범위를[-1, 1] -> [0, 1]로 되돌림\n",
        "        img = (img + 1)/2\n",
        "        # 결과 표시\n",
        "        plt.imshow(img)\n",
        "        ax.set_axis_off()\n",
        "    plt.show()\n"
      ]
    },
    {
      "cell_type": "code",
      "execution_count": null,
      "metadata": {
        "id": "SbCOyjR9K_62"
      },
      "outputs": [],
      "source": [
        "# 검증 데이터를 이미지로 표시\n",
        "\n",
        "# 검증 데이터의 처음 50개를 출력\n",
        "show_images_labels(test_loader, classes, None, None)"
      ]
    },
    {
      "cell_type": "markdown",
      "metadata": {
        "id": "8FGVaIs7XY_M"
      },
      "source": [
        "#데이터 증강 적용 이후 확인"
      ]
    },
    {
      "cell_type": "code",
      "execution_count": null,
      "metadata": {
        "id": "jxSTa93nYhZW"
      },
      "outputs": [],
      "source": [
        "# 훈련 데이터의 처음 50개를 출력\n",
        "show_images_labels(train_loader, classes, None, None)"
      ]
    },
    {
      "cell_type": "code",
      "execution_count": null,
      "metadata": {
        "id": "KAgPFWqAZDc0"
      },
      "outputs": [],
      "source": [
        "import torchvision"
      ]
    },
    {
      "cell_type": "code",
      "execution_count": null,
      "metadata": {
        "id": "x82vJwmrY8p3"
      },
      "outputs": [],
      "source": [
        "# 데이터셋에서 이미지 샘플 하나를 가져옵니다.\n",
        "dataiter = iter(train_loader)\n",
        "images, labels = next(dataiter)"
      ]
    },
    {
      "cell_type": "code",
      "execution_count": null,
      "metadata": {
        "id": "nwwlls5MyiTc"
      },
      "outputs": [],
      "source": [
        "# 이미지 시각화를 위한 유틸리티 함수입니다.\n",
        "def imshow(img):\n",
        "    img = img / 2 + 0.5     # unnormalize\n",
        "    npimg = img.numpy()\n",
        "    plt.imshow(np.transpose(npimg, (1, 2, 0)))\n",
        "    plt.show()\n",
        "\n",
        "# 이미지를 시각화합니다.\n",
        "plt.figure(figsize=(30,30))\n",
        "imshow(torchvision.utils.make_grid(images))"
      ]
    },
    {
      "cell_type": "markdown",
      "metadata": {
        "id": "GobD75jfWT00"
      },
      "source": [
        "MODEL\n"
      ]
    },
    {
      "cell_type": "markdown",
      "metadata": {
        "id": "dFc2ynI8tsKl"
      },
      "source": [
        "#EfficientNet\n",
        "\n",
        "\n",
        "한정된 자원으로 최대의 효율을 내기 위한 방법으로 model scaling(depth, width, resolution)\n",
        "\n",
        "1.network의 depth를 깊게 만드는 것\n",
        "\n",
        "2.channel width(filter 개수)를 늘리는 것(width가 넓을수록 미세한 정보가 많이 담아짐)\n",
        "\n",
        "3.input image의 해상도를 올리는 것\n",
        "\n",
        "Depth: 네트워크의 깊이가 증가할수록 모델의 capacity가 커지고 더 복잡한 feature를 잡아낼 수 있지만, vanishing gradient의 문제로 학습시키기가 더 어려워진다. 이를 해결하기 위해 Batch Norm, Residual Connection 등의 여러 기법들이 등장하였다.\n",
        "Width: 각 레이어의 width를 키우면 정확도가 높아지지만 계산량이 제곱에 비례하여 증가한다.\n",
        "Resolution: 입력 이미지의 해상도를 키우면 더 세부적인 feature를 학습할 수 있어 정확도가 높아지지만 마찬가지로 계산량이 제곱에 비례해 증가한다.\n",
        "\n",
        "\n",
        "\n",
        "ResNet(ResNet-18, ResNet-50, ResNet-200)은 깊이를 달리 하였다.\n",
        "MobileNets는 network width를 달리 하였다.\n",
        "\n",
        "\n",
        "\n",
        "\n",
        "```\n",
        "\n"
      ]
    },
    {
      "cell_type": "code",
      "execution_count": null,
      "metadata": {
        "id": "nwH1obOSIDqt"
      },
      "outputs": [],
      "source": [
        "import math\n",
        "\n",
        "\n",
        "class Swish(torch.nn.Module):\n",
        "    def __init__(self):\n",
        "        super().__init__()\n",
        "\n",
        "    def forward(self, x):\n",
        "        x = x * torch.sigmoid(x)\n",
        "        return x\n",
        "\n",
        "\n",
        "class Mish(torch.nn.Module):\n",
        "    def __init__(self):\n",
        "        super().__init__()\n",
        "\n",
        "    def forward(self, x):\n",
        "        x = x * (torch.tanh(torch.nn.functional.softplus(x)))\n",
        "        return x\n",
        "\n",
        "\n",
        "class Conv_Bn_Activation(torch.nn.Module):\n",
        "    def __init__(self, in_channels, out_channels, kernel_size, stride=1, activation=\"linear\", conv=\"Conv2d\", groups=1, dilation=1, pool=1, bn=True, bias=False, UpSample=1, dropout=0):\n",
        "        super().__init__()\n",
        "        self.conv = nn.ModuleList()\n",
        "        pad = (kernel_size - 1) // 2\n",
        "        \n",
        "        if conv == \"Conv2d\":\n",
        "            if bias:\n",
        "                self.conv.append(nn.Conv2d(in_channels, out_channels, kernel_size, stride, pad, groups=groups, dilation=dilation))\n",
        "            else:\n",
        "                self.conv.append(nn.Conv2d(in_channels, out_channels, kernel_size, stride, pad, groups=groups, dilation=dilation, bias=False))\n",
        "        if bn:\n",
        "            self.conv.append(nn.BatchNorm2d(out_channels, track_running_stats=False))\n",
        "        if activation == \"tanh\":\n",
        "            self.conv.append(nn.Tanh())\n",
        "        elif activation == \"sigmoid\":\n",
        "            self.conv.append(nn.Sigmoid())\n",
        "        elif activation == \"mish\":\n",
        "            self.conv.append(Mish())\n",
        "        elif activation == \"swish\":\n",
        "            self.conv.append(Swish())\n",
        "        elif activation == \"relu\":\n",
        "            self.conv.append(nn.ReLU(inplace=True))\n",
        "        elif activation == \"leaky\":\n",
        "            self.conv.append(nn.LeakyReLU(0.1, inplace=True))\n",
        "        elif activation == \"linear\":\n",
        "            pass\n",
        "        else:\n",
        "            print(\"activate error !!!\")\n",
        "        \n",
        "        if dropout != 0:\n",
        "            self.conv.append(nn.Dropout2d(p=dropout))\n",
        "        if pool != 1:\n",
        "            self.conv.append(nn.MaxPool2d(pool, pool))\n",
        "            \n",
        "    def forward(self, x):\n",
        "        for l in self.conv:\n",
        "            x = l(x)\n",
        "        return x\n",
        "\n",
        "\n",
        "class SEblock(nn.Module):\n",
        "    def __init__(self, ch_in, ch_sq):\n",
        "        super().__init__()\n",
        "        self.module_list = nn.ModuleList()\n",
        "\n",
        "        self.module_list.append(nn.AdaptiveAvgPool2d(1))\n",
        "        self.module_list.append(nn.Conv2d(ch_in, ch_sq, 1))\n",
        "        self.module_list.append(Swish())\n",
        "        self.module_list.append(nn.Conv2d(ch_sq, ch_in, 1))\n",
        "\n",
        "    def forward(self, x):\n",
        "        orig_x = x\n",
        "        for module in self.module_list:\n",
        "            x = module(x)\n",
        "        return orig_x * torch.sigmoid(x)\n",
        "\n",
        "\n",
        "class DropConnect(nn.Module):\n",
        "    def __init__(self, drop_rate):\n",
        "        super().__init__()\n",
        "        self.drop_rate = drop_rate\n",
        "\n",
        "    def forward(self, x):\n",
        "        if self.training:\n",
        "            keep_rate = 1.0 - self.drop_rate\n",
        "            mask = torch.rand_like(x) < keep_rate\n",
        "            x = torch.div(x, keep_rate) * mask\n",
        "        return x\n",
        "\n",
        "\n",
        "class BMConvBlock(nn.Module):\n",
        "    def __init__(self, ch_in, ch_out, expand_ratio, stride, kernel_size, reduction_ratio=4, drop_connect_rate=0.2):\n",
        "        super().__init__()\n",
        "        self.use_residual = (ch_in == ch_out) and (stride == 1)\n",
        "        ch_med = int(ch_in * expand_ratio)\n",
        "        ch_sq = max(1, ch_in // reduction_ratio)\n",
        "\n",
        "        self.module_list = nn.ModuleList()\n",
        "        if expand_ratio != 1.0:\n",
        "            self.module_list.append(Conv_Bn_Activation(ch_in, ch_med, kernel_size=1, stride=1, activation='swish', groups=1))\n",
        "\n",
        "        self.module_list.append(Conv_Bn_Activation(ch_med, ch_med, kernel_size=kernel_size, stride=stride, activation='swish', groups=ch_med))\n",
        "        self.module_list.append(SEblock(ch_med, ch_sq))\n",
        "        self.module_list.append(Conv_Bn_Activation(ch_med, ch_out, kernel_size=1, stride=1, activation='linear', groups=1))\n",
        "\n",
        "        if self.use_residual:\n",
        "            self.drop_connect = DropConnect(drop_connect_rate)\n",
        "\n",
        "    def forward(self, x):\n",
        "        orig_x = x\n",
        "        for module in self.module_list:\n",
        "            x = module(x)\n",
        "        if self.use_residual:\n",
        "            return orig_x + self.drop_connect(x)\n",
        "        else:\n",
        "            return x\n",
        "\n",
        "\n",
        "class Flatten(nn.Module):\n",
        "    def forward(self, x):\n",
        "        return x.view(x.shape[0], -1)\n",
        "\n",
        "\n",
        "class EfficientNet(nn.Module):\n",
        "    def __init__(self, width_mult=1.0, depth_mult=1.0, resolution=32, dropout_rate=0.2, ch_in=3, num_classes=10):\n",
        "        super().__init__()\n",
        "\n",
        "        settings = [\n",
        "            [1, 16, 1, 1, 3],  # MBConv1_3x3, SE, 32 -> 32\n",
        "            [6, 24, 2, 2, 3],  # MBConv6_3x3, SE, 32 -> 16\n",
        "            [6, 40, 2, 2, 5],  # MBConv6_5x5, SE, 16 -> 8\n",
        "            [6, 80, 3, 2, 3],  # MBConv6_3x3, SE, 8 -> 4\n",
        "            [6, 112, 3, 1, 5],  # MBConv6_5x5, SE, 4 -> 4\n",
        "            [6, 192, 4, 2, 5],  # MBConv6_5x5, SE, 4 -> 2\n",
        "            [6, 320, 1, 1, 3]  # MBConv6_3x3, SE, 2 -> 2\n",
        "        ]\n",
        "\n",
        "        ch_out = int(math.ceil(32 * width_mult))\n",
        "        self.features = nn.ModuleList()\n",
        "        self.features.append(Conv_Bn_Activation(ch_in, ch_out, kernel_size=3, stride=1, activation='swish', groups=1))\n",
        "\n",
        "        ch_in = ch_out\n",
        "        for t, c, n, s, k in settings:\n",
        "            ch_out = int(math.ceil(c * width_mult))\n",
        "            repeats = int(math.ceil(n * depth_mult))\n",
        "            for i in range(repeats):\n",
        "                stride = s if i == 0 else 1\n",
        "                self.features.append(BMConvBlock(ch_in, ch_out, t, stride, k))\n",
        "                ch_in = ch_out\n",
        "\n",
        "        self.classifier = nn.ModuleList()\n",
        "        self.classifier.append(nn.AdaptiveAvgPool2d(1))\n",
        "        self.classifier.append(Flatten())\n",
        "        self.classifier.append(nn.Dropout(dropout_rate))\n",
        "        self.classifier.append(nn.Linear(ch_out, num_classes))\n",
        "\n",
        "    def forward(self, x):\n",
        "        for module in self.features:\n",
        "            x = module(x)\n",
        "        for module in self.classifier:\n",
        "            x = module(x)\n",
        "        return x\n",
        "\n",
        "\n",
        "def efficientnet_cifar(width_mult=1.0, depth_mult=1.0, resolution=32, dropout_rate=0.2, num_classes=10):\n",
        "    return EfficientNet(width_mult, depth_mult, resolution, dropout_rate, ch_in=3, num_classes=num_classes)\n"
      ]
    },
    {
      "cell_type": "markdown",
      "metadata": {
        "id": "-XTuykfCWzz3"
      },
      "source": [
        "# CNN (RESNET-18/34/50)"
      ]
    },
    {
      "cell_type": "markdown",
      "source": [
        "BASICBLOCK은 입력과 출력의 차원이 동일\n",
        "BASICBLOCK은 입력의 크기를 유지\n",
        "두 개의 3x3 컨볼루션 레이어\n",
        "\n",
        "BOTTLENECK은 BASICBLOCK보다 더 깊고 복잡한 구조를 가지며, 세 개의 컨볼루션 레이어로 구성\n",
        "BOTTLENECK은 입력과 출력의 차원이 다르며, 출력 차원이 입력 차원의 4배\n",
        " 세 개의 컨볼루션 레이어로 구성됩 (1x1, 3x3, 1x1)\n",
        "\n",
        "BasicBlock 구조는 ResNet에서 기본적으로 사용되는 구조로, 두 개의 3x3 컨볼루션 레이어로 구성되어 있습니다. 이 구조는 입력 특성 맵의 크기를 유지하면서 학습 가능한 파라미터 수를 줄이고, 네트워크의 연산량을 감소시킵니다. BasicBlock은 ResNet-18 및 ResNet-34와 같은 작은 규모의 네트워크에 주로 사용됩니다.\n",
        "\n",
        "Bottleneck 구조는 세 개의 컨볼루션 레이어로 구성되어 있으며, 1x1 컨볼루션, 3x3 컨볼루션, 1x1 컨볼루션의 순서로 연결됩니다. 이 구조는 1x1 컨볼루션 레이어를 통해 입력의 차원을 감소시키고, 3x3 컨볼루션 레이어에서 고수준의 특성을 추출한 후, 다시 1x1 컨볼루션 레이어를 통해 차원을 증가시킵니다. Bottleneck 구조는 ResNet-50 이상의 큰 규모의 네트워크에 주로 사용되며, 네트워크의 깊이를 증가시키는 데 도움을 줍니다.\n"
      ],
      "metadata": {
        "id": "FsVKqqyjjZJF"
      }
    },
    {
      "cell_type": "markdown",
      "metadata": {
        "id": "XM2ogpvuyc0R"
      },
      "source": [
        "Pretrained(x)"
      ]
    },
    {
      "cell_type": "code",
      "execution_count": null,
      "metadata": {
        "id": "dbZcC7ysWurT",
        "colab": {
          "base_uri": "https://localhost:8080/"
        },
        "outputId": "7a4ed501-45a6-4792-bc01-45fa20fdec44"
      },
      "outputs": [
        {
          "output_type": "stream",
          "name": "stdout",
          "text": [
            "torch.Size([1, 10])\n"
          ]
        }
      ],
      "source": [
        "import torch\n",
        "import torch.nn as nn\n",
        "import torch.nn.functional as F\n",
        "\n",
        "\n",
        "class BasicBlock(nn.Module):\n",
        "    expansion = 1\n",
        "\n",
        "    def __init__(self, in_planes, planes, stride=1):\n",
        "        super(BasicBlock, self).__init__()\n",
        "        self.conv1 = nn.Conv2d(\n",
        "            in_planes, planes, kernel_size=3, stride=stride, padding=1, bias=False)\n",
        "        self.bn1 = nn.BatchNorm2d(planes)\n",
        "        self.conv2 = nn.Conv2d(planes, planes, kernel_size=3,\n",
        "                               stride=1, padding=1, bias=False)\n",
        "        self.bn2 = nn.BatchNorm2d(planes)\n",
        "\n",
        "        self.shortcut = nn.Sequential()\n",
        "        if stride != 1 or in_planes != self.expansion*planes:\n",
        "            self.shortcut = nn.Sequential(\n",
        "                nn.Conv2d(in_planes, self.expansion*planes,\n",
        "                          kernel_size=1, stride=stride, bias=False),\n",
        "                nn.BatchNorm2d(self.expansion*planes)\n",
        "            )\n",
        "\n",
        "    def forward(self, x):\n",
        "        out = F.relu(self.bn1(self.conv1(x)))\n",
        "        out = self.bn2(self.conv2(out))\n",
        "        out += self.shortcut(x)\n",
        "        out = F.relu(out)\n",
        "        return out\n",
        "\n",
        "\n",
        "class Bottleneck(nn.Module):\n",
        "    expansion = 4\n",
        "\n",
        "    def __init__(self, in_planes, planes, stride=1):\n",
        "        super(Bottleneck, self).__init__()\n",
        "        self.conv1 = nn.Conv2d(in_planes, planes, kernel_size=1, bias=False)\n",
        "        self.bn1 = nn.BatchNorm2d(planes)\n",
        "        self.conv2 = nn.Conv2d(planes, planes, kernel_size=3,\n",
        "                               stride=stride, padding=1, bias=False)\n",
        "        self.bn2 = nn.BatchNorm2d(planes)\n",
        "        self.conv3 = nn.Conv2d(planes, self.expansion *\n",
        "                               planes, kernel_size=1, bias=False)\n",
        "        self.bn3 = nn.BatchNorm2d(self.expansion*planes)\n",
        "\n",
        "        self.shortcut = nn.Sequential()\n",
        "        if stride != 1 or in_planes != self.expansion*planes:\n",
        "            self.shortcut = nn.Sequential(\n",
        "                nn.Conv2d(in_planes, self.expansion*planes,\n",
        "                          kernel_size=1, stride=stride, bias=False),\n",
        "                nn.BatchNorm2d(self.expansion*planes)\n",
        "            )\n",
        "\n",
        "    def forward(self, x):\n",
        "        out = F.relu(self.bn1(self.conv1(x)))\n",
        "        out = F.relu(self.bn2(self.conv2(out)))\n",
        "        out = self.bn3(self.conv3(out))\n",
        "        out += self.shortcut(x)\n",
        "        out = F.relu(out)\n",
        "        return out\n",
        "\n",
        "\n",
        "class ResNet(nn.Module):\n",
        "    def __init__(self, block, num_blocks, num_classes=10):\n",
        "        super(ResNet, self).__init__()\n",
        "        self.in_planes = 64\n",
        "\n",
        "        self.conv1 = nn.Conv2d(3, 64, kernel_size=3,\n",
        "                               stride=1, padding=1, bias=False)\n",
        "        self.bn1 = nn.BatchNorm2d(64)\n",
        "        self.layer1 = self._make_layer(block, 64, num_blocks[0], stride=1)\n",
        "        self.layer2 = self._make_layer(block, 128, num_blocks[1], stride=2)\n",
        "        self.layer3 = self._make_layer(block, 256, num_blocks[2], stride=2)\n",
        "        self.layer4 = self._make_layer(block, 512, num_blocks[3], stride=2)\n",
        "        self.linear = nn.Linear(512*block.expansion, num_classes)\n",
        "\n",
        "    def _make_layer(self, block, planes, num_blocks, stride):\n",
        "        strides = [stride] + [1]*(num_blocks-1)\n",
        "        layers = []\n",
        "        for stride in strides:\n",
        "            layers.append(block(self.in_planes, planes, stride))\n",
        "            self.in_planes = planes * block.expansion\n",
        "        return nn.Sequential(*layers)\n",
        "\n",
        "    def forward(self, x):\n",
        "        out = F.relu(self.bn1(self.conv1(x)))\n",
        "        out = self.layer1(out)\n",
        "        out = self.layer2(out)\n",
        "        out = self.layer3(out)\n",
        "        out = self.layer4(out)\n",
        "        out = F.avg_pool2d(out, 4)\n",
        "        out = out.view(out.size(0), -1)\n",
        "        out = self.linear(out)\n",
        "        return out\n",
        "\n",
        "\n",
        "def ResNet18(num_classes=10):\n",
        "    return ResNet(BasicBlock, [2, 2, 2, 2], num_classes)\n",
        "\n",
        "\n",
        "def ResNet34(num_classes=10):\n",
        "    return ResNet(BasicBlock, [3, 4, 6, 3], num_classes)\n",
        "\n",
        "\n",
        "def ResNet50(num_classes=10):\n",
        "    return ResNet(Bottleneck, [3, 4, 6, 3], num_classes)\n",
        "\n",
        "\n",
        "def ResNet101(num_classes=10):\n",
        "    return ResNet(Bottleneck, [3, 4, 23, 3], num_classes)\n",
        "\n",
        "\n",
        "def ResNet152(num_classes=10):\n",
        "    return ResNet(Bottleneck, [3, 8, 36, 3], num_classes)\n",
        "\n",
        "\n",
        "def test():\n",
        "    net = ResNet18()\n",
        "    y = net(torch.randn(1, 3, 32, 32))\n",
        "    print(y.size())\n",
        "\n",
        "test()\n"
      ]
    },
    {
      "cell_type": "markdown",
      "metadata": {
        "id": "yWL1kSTSW7Pg"
      },
      "source": [
        "# DRN (Dilated Residual Network)\n",
        "\n",
        "\n",
        "\n",
        "\n",
        "DRN-A: 이 구조는 기본 ResNet 구조를 기반으로 하며, 각 Residual Block 안에 dilated convolution을 적용합니다. 이 구조는 네트워크가 깊어질수록 레이어의 총 개수가 증가하는 특징이 있습니다.\n",
        "\n",
        "DRN-B: DRN-A와 비슷한 구조를 가지고 있지만, 추가적인 dilated convolution 레이어를 추가하여 네트워크의 수용 필드(receptive field)를 확장합니다. 이 구조는 더 큰 컨텍스트 정보를 활용할 수 있어 성능을 향상시킬 수 있습니다.\n",
        "\n",
        "DRN-C: DRN-C는 DRN-B에서 전체 네트워크의 깊이를 늘리는 방식으로 구성됩니다. 더 많은 레이어를 추가하여 특징 추출 및 컨텍스트 정보의 효과를 증가시킵니다. 그러나 더 많은 파라미터와 연산량이 필요하므로 계산 비용이 높아집니다.\n",
        "\n",
        "각각의 DRN 구조는 네트워크의 성능과 효율성을 조정하기 위해 사용될 수 있습니다. 이 구조들은 다양한 컴퓨터 비전 태스크에 적용되며, 필요에 따라 선택할 수 있습니다."
      ]
    },
    {
      "cell_type": "code",
      "execution_count": null,
      "metadata": {
        "id": "a53704a8"
      },
      "outputs": [],
      "source": [
        "class DRNC26(nn.Module):\n",
        "    def __init__(self, num_classes=10):\n",
        "        super(DRNC26, self).__init__()\n",
        "        # 첫 번째 convolution layer 정의\n",
        "        self.conv1 = nn.Conv2d(3, 16, kernel_size=3, stride=1, padding=1, bias=False)\n",
        "        self.bn1 = nn.BatchNorm2d(16)\n",
        "        self.relu = nn.ReLU(inplace=True)\n",
        "        \n",
        "        # Residual layer 1 정의\n",
        "        self.layer1 = nn.Sequential(\n",
        "            nn.Conv2d(16, 32, kernel_size=3, stride=1, padding=1, bias=False),\n",
        "            nn.BatchNorm2d(32),\n",
        "            nn.ReLU(inplace=True),\n",
        "            nn.Conv2d(32, 32, kernel_size=3, stride=1, padding=1, bias=False),\n",
        "            nn.BatchNorm2d(32),\n",
        "            nn.ReLU(inplace=True)\n",
        "        )\n",
        "        \n",
        "        # Residual layer 2 정의\n",
        "        self.layer2 = nn.Sequential(\n",
        "            nn.Conv2d(32, 64, kernel_size=3, stride=2, padding=1, bias=False),\n",
        "            nn.BatchNorm2d(64),\n",
        "            nn.ReLU(inplace=True),\n",
        "            nn.Conv2d(64, 64, kernel_size=3, stride=1, padding=1, bias=False),\n",
        "            nn.BatchNorm2d(64),\n",
        "            nn.ReLU(inplace=True),\n",
        "            nn.Conv2d(64, 64, kernel_size=3, stride=1, padding=1, bias=False),\n",
        "            nn.BatchNorm2d(64),\n",
        "            nn.ReLU(inplace=True)\n",
        "        )\n",
        "        \n",
        "        # Residual layer 3 정의\n",
        "        self.layer3 = nn.Sequential(\n",
        "            nn.Conv2d(64, 128, kernel_size=3, stride=2, padding=1, bias=False),\n",
        "            nn.BatchNorm2d(128),\n",
        "            nn.ReLU(inplace=True),\n",
        "            nn.Conv2d(128, 128, kernel_size=3, stride=1, padding=1, bias=False),\n",
        "            nn.BatchNorm2d(128),\n",
        "            nn.ReLU(inplace=True),\n",
        "            nn.Conv2d(128, 128, kernel_size=3, stride=1, padding=1, bias=False),\n",
        "            nn.BatchNorm2d(128),\n",
        "            nn.ReLU(inplace=True)\n",
        "        )\n",
        "        \n",
        "        # Adaptive pooling layer 정의\n",
        "        self.avgpool = nn.AdaptiveAvgPool2d((1, 1))\n",
        "        self.fc = nn.Linear(128, num_classes)\n",
        "\n",
        "    def forward(self, x):\n",
        "        # forward 연산 수행\n",
        "        x = self.conv1(x)\n",
        "        x = self.bn1(x)\n",
        "        x = self.relu(x)\n",
        "        x = self.layer1(x)\n",
        "        x = self.layer2(x)\n",
        "        x = self.layer3(x)\n",
        "        x = self.avgpool(x)\n",
        "        x = x.view(x.size(0), -1)\n",
        "        x = self.fc(x)\n",
        "        return x\n",
        "\n",
        "\n",
        "    def get_activation_map(self, x):\n",
        "        \"\"\"\n",
        "        입력 이미지를 모델에 입력하여 각 레이어의 activation map을 추출하는 함수\n",
        "        Args:\n",
        "            x: 모델에 입력할 이미지\n",
        "        Returns:\n",
        "            feature_maps: 각 레이어에서 추출된 feature map의 리스트\n",
        "        \"\"\"\n",
        "        feature_maps = []\n",
        "        # 입력 이미지를 모델에 입력하여 forward 연산 수행\n",
        "        x = self.conv1(x)\n",
        "        x = self.bn1(x)\n",
        "        x = self.relu(x)\n",
        "        feature_maps.append(x)\n",
        "        x = self.layer1(x)\n",
        "        feature_maps.append(x)\n",
        "        x = self.layer2(x)\n",
        "        feature_maps.append(x)\n",
        "        x = self.layer3(x)\n",
        "        feature_maps.append(x)\n",
        "        return feature_maps"
      ]
    },
    {
      "cell_type": "markdown",
      "metadata": {
        "id": "Ksa76L7XKl6H"
      },
      "source": [
        "DRN-A:  Bottleneck 블록을 사용. 주로 대규모 이미지 분류나 객체 탐지 등의 고성능 비전 태스크에 적합\n",
        "\n",
        "DRN-B: 더 깊은 네트워크 구조를 가지며, Bottleneck 블록을 사용. DRN-A보다 더 많은 층과 매개 변수를 가지며, 더 복잡한 특징을 학습\n",
        "\n",
        "DRN-C: BasicBlock 블록을 사용.  DRN-A보다 더 작은 구조와 매개 변수. DRN-A와 비교하여 계산 및 메모리 요구 사항이 적으며, 더 경량화된 구조\n",
        "\n",
        "\n",
        "DRN-D: DRN-C와 유사한 구조를 가지지만, 추가적인 확장 레벨을 포함. DRN-C보다 더 많은 층과 매개 변수를 가지며, 더 복잡한 특징을 학습\n",
        "\n",
        "\n",
        "1. BasicBlock 블록은 두 개의 컨볼루션 레이어로 구성되어 있습니다. 보통 입력 차원과 출력 차원이 동일한 경우에 사용\n",
        "\n",
        " 첫 번째 컨볼루션 레이어는 3x3 커널을 사용하고, 두 번째 컨볼루션 레이어는 동일한 3x3 커널을 사용\n",
        "\n",
        "\n",
        "\n",
        "\n",
        "2. Bottleneck 블록은 세 개의 컨볼루션 레이어로 구성되어 있습니다. 입력 차원과 출력 차원 사이에 차원 축소를 위해 1x1 컨볼루션 레이어가 사용되고, 그 사이에 3x3 컨볼루션 레이어가 사용\n",
        "\n",
        "출력 차원을 다시 확장하기 위해 1x1 컨볼루션 레이어가 사용됩니다. Bottleneck 블록은 모델의 복잡성을 높일 수 있으며, 더 깊은 네트워크에서 사용될 때 효과적\n",
        "\n",
        "\n",
        "\n",
        "\n",
        "\n"
      ]
    },
    {
      "cell_type": "markdown",
      "metadata": {
        "id": "R_M9IR21Fpid"
      },
      "source": [
        "#DRN-BasicBlock 사용-C26의 구조를 차용하며 CIFAR-10에 맞게 변형"
      ]
    },
    {
      "cell_type": "code",
      "execution_count": null,
      "metadata": {
        "id": "tI7iDYn9FQn9"
      },
      "outputs": [],
      "source": [
        "import torch\n",
        "import torch.nn as nn\n",
        "import torchvision.models as models\n",
        "import torchvision.transforms as transforms\n",
        "\n",
        "\n",
        "def conv3x3(in_planes, out_planes, stride=1, padding=1, dilation=1):\n",
        "    return nn.Conv2d(in_planes, out_planes, kernel_size=3, stride=stride,\n",
        "                     padding=padding, bias=False, dilation=dilation)\n",
        "\n",
        "\n",
        "class BasicBlock(nn.Module):\n",
        "    expansion = 1\n",
        "\n",
        "    def __init__(self, inplanes, planes, stride=1, downsample=None,\n",
        "                 dilation=(1, 1), residual=True):\n",
        "        super(BasicBlock, self).__init__()\n",
        "        self.conv1 = conv3x3(inplanes, planes, stride,\n",
        "                             padding=dilation[0], dilation=dilation[0])\n",
        "        self.bn1 = nn.BatchNorm2d(planes)\n",
        "        self.relu = nn.ReLU(inplace=True)\n",
        "        self.conv2 = conv3x3(planes, planes,\n",
        "                             padding=dilation[1], dilation=dilation[1])\n",
        "        self.bn2 = nn.BatchNorm2d(planes)\n",
        "        self.downsample = downsample\n",
        "        self.stride = stride\n",
        "        self.residual = residual\n",
        "\n",
        "    def forward(self, x):\n",
        "        residual = x\n",
        "\n",
        "        out = self.conv1(x)\n",
        "        out = self.bn1(out)\n",
        "        out = self.relu(out)\n",
        "\n",
        "        out = self.conv2(out)\n",
        "        out = self.bn2(out)\n",
        "\n",
        "        if self.downsample is not None:\n",
        "            residual = self.downsample(x)\n",
        "        if self.residual:\n",
        "            out += residual\n",
        "        out = self.relu(out)\n",
        "\n",
        "        return out\n",
        "\n",
        "\n",
        "class DRN(nn.Module):\n",
        "    def __init__(self, block, layers, num_classes=10,\n",
        "                 channels=(16, 32, 64, 128, 256, 512, 512, 512),\n",
        "                 out_map=False, out_middle=False, pool_size=8, arch='D'):\n",
        "        super(DRN, self).__init__()\n",
        "        self.inplanes = channels[0]\n",
        "        self.out_map = out_map\n",
        "        self.out_dim = channels[-1]\n",
        "        self.out_middle = out_middle\n",
        "        self.arch = arch\n",
        "\n",
        "        # 입력 채널 수가 3이고 출력 채널 수가 channels[0]인 3x3 합성곱 계층 정의\n",
        "        self.conv1 = nn.Conv2d(3, channels[0], kernel_size=3, stride=1,\n",
        "                               padding=1, bias=False)\n",
        "        self.bn1 = nn.BatchNorm2d(channels[0])\n",
        "        self.relu = nn.ReLU(inplace=True)\n",
        "\n",
        "        # layer1부터 layer8까지의 레이어를 생성\n",
        "        self.layer1 = self._make_layer(block, channels[0], layers[0], stride=1)\n",
        "        self.layer2 = self._make_layer(block, channels[1], layers[1], stride=2)\n",
        "        self.layer3 = self._make_layer(block, channels[2], layers[2], stride=2)\n",
        "        self.layer4 = self._make_layer(block, channels[3], layers[3], stride=2)\n",
        "        self.layer5 = self._make_layer(block, channels[4], layers[4], dilation=2)\n",
        "        self.layer6 = self._make_layer(block, channels[5], layers[5], dilation=4)\n",
        "        self.layer7 = self._make_layer(block, channels[6], layers[6], dilation=2, residual=False)\n",
        "        self.layer8 = self._make_layer(block, channels[7], layers[7], dilation=1, residual=False)\n",
        "\n",
        "        if num_classes > 0:\n",
        "            # 평균 풀링 계층과 완전 연결 계층으로 구성된 분류기 생성\n",
        "            self.avgpool = nn.AdaptiveAvgPool2d(1)\n",
        "            self.fc = nn.Linear(self.out_dim, num_classes)\n",
        "\n",
        "    def _make_layer(self, block, planes, blocks, stride=1, dilation=1, residual=True):\n",
        "        downsample = None\n",
        "        if stride != 1 or self.inplanes != planes * block.expansion:\n",
        "            downsample = nn.Sequential(\n",
        "                nn.Conv2d(self.inplanes, planes * block.expansion,\n",
        "                          kernel_size=1, stride=stride, bias=False),\n",
        "                nn.BatchNorm2d(planes * block.expansion)\n",
        "            )\n",
        "\n",
        "        layers = []\n",
        "        # 블록을 반복하여 레이어 생성\n",
        "        layers.append(block(self.inplanes, planes, stride, downsample,\n",
        "                            dilation=(1, 1) if dilation == 1 else (dilation, dilation),\n",
        "                            residual=residual))\n",
        "        self.inplanes = planes * block.expansion\n",
        "        for i in range(1, blocks):\n",
        "            layers.append(block(self.inplanes, planes, dilation=(dilation, dilation), residual=residual))\n",
        "\n",
        "        return nn.Sequential(*layers)\n",
        "\n",
        "    def forward(self, x):\n",
        "        # 입력 이미지에 대한 합성곱 및 활성화 함수 적용\n",
        "        x = self.conv1(x)\n",
        "        x = self.bn1(x)\n",
        "        x = self.relu(x)\n",
        "\n",
        "        # 각 레이어에 순차적으로 통과\n",
        "        x = self.layer1(x)\n",
        "        x = self.layer2(x)\n",
        "        x = self.layer3(x)\n",
        "        x = self.layer4(x)\n",
        "        x = self.layer5(x)\n",
        "        x = self.layer6(x)\n",
        "        x = self.layer7(x)\n",
        "        x = self.layer8(x)\n",
        "\n",
        "        if self.out_map:\n",
        "            # 출력 맵을 반환하는 경우 분류기로 전달\n",
        "            x = self.fc(x)\n",
        "        else:\n",
        "            # 평균 풀링을 통해 공간 차원 축소\n",
        "            x = self.avgpool(x)\n",
        "            x = x.view(x.size(0), -1)\n",
        "            x = self.fc(x)\n",
        "\n",
        "        return x"
      ]
    },
    {
      "cell_type": "markdown",
      "metadata": {
        "id": "tA3_uFLsFwZq"
      },
      "source": [
        "#DRN- Bottleneck 사용 "
      ]
    },
    {
      "cell_type": "code",
      "execution_count": null,
      "metadata": {
        "id": "2dESRl-5Ft5X"
      },
      "outputs": [],
      "source": [
        "import torch\n",
        "import torch.nn as nn\n",
        "import torchvision.models as models\n",
        "import torchvision.transforms as transforms\n",
        "\n",
        "\n",
        "def conv3x3(in_planes, out_planes, stride=1, padding=1, dilation=1):\n",
        "    return nn.Conv2d(in_planes, out_planes, kernel_size=3, stride=stride,\n",
        "                     padding=padding, bias=False, dilation=dilation)\n",
        "\n",
        "\n",
        "class BasicBlock(nn.Module):\n",
        "    expansion = 1\n",
        "\n",
        "    def __init__(self, inplanes, planes, stride=1, downsample=None,\n",
        "                 dilation=(1, 1), residual=True):\n",
        "        super(BasicBlock, self).__init__()\n",
        "        self.conv1 = conv3x3(inplanes, planes, stride,\n",
        "                             padding=dilation[0], dilation=dilation[0])\n",
        "        self.bn1 = nn.BatchNorm2d(planes)\n",
        "        self.relu = nn.ReLU(inplace=True)\n",
        "        self.conv2 = conv3x3(planes, planes,\n",
        "                             padding=dilation[1], dilation=dilation[1])\n",
        "        self.bn2 = nn.BatchNorm2d(planes)\n",
        "        self.downsample = downsample\n",
        "        self.stride = stride\n",
        "        self.residual = residual\n",
        "\n",
        "    def forward(self, x):\n",
        "        residual = x\n",
        "\n",
        "        out = self.conv1(x)\n",
        "        out = self.bn1(out)\n",
        "        out = self.relu(out)\n",
        "\n",
        "        out = self.conv2(out)\n",
        "        out = self.bn2(out)\n",
        "\n",
        "        if self.downsample is not None:\n",
        "            residual = self.downsample(x)\n",
        "        if self.residual:\n",
        "            out += residual\n",
        "        out = self.relu(out)\n",
        "\n",
        "        return out\n",
        "\n",
        "\n",
        "class Bottleneck(nn.Module):\n",
        "    expansion = 4\n",
        "\n",
        "    def __init__(self, inplanes, planes, stride=1, downsample=None,\n",
        "                 dilation=(1, 1), residual=True):\n",
        "        super(Bottleneck, self).__init__()\n",
        "        self.conv1 = nn.Conv2d(inplanes, planes, kernel_size=1, bias=False)\n",
        "        self.bn1 = nn.BatchNorm2d(planes)\n",
        "        self.conv2 = nn.Conv2d(planes, planes, kernel_size=3, stride=stride,\n",
        "                               padding=dilation[1], bias=False,\n",
        "                               dilation=dilation[1])\n",
        "        self.bn2 = nn.BatchNorm2d(planes)\n",
        "        self.conv3 = nn.Conv2d(planes, planes * 4, kernel_size=1, bias=False)\n",
        "        self.bn3 = nn.BatchNorm2d(planes * 4)\n",
        "        self.relu = nn.ReLU(inplace=True)\n",
        "        self.downsample = downsample\n",
        "        self.stride = stride\n",
        "\n",
        "    def forward(self, x):\n",
        "        residual = x\n",
        "\n",
        "        out = self.conv1(x)\n",
        "        out = self.bn1(out)\n",
        "        out = self.relu(out)\n",
        "\n",
        "        out = self.conv2(out)\n",
        "        out = self.bn2(out)\n",
        "        out = self.relu(out)\n",
        "\n",
        "        out = self.conv3(out)\n",
        "        out = self.bn3(out)\n",
        "\n",
        "        if self.downsample is not None:\n",
        "            residual = self.downsample(x)\n",
        "\n",
        "        out += residual\n",
        "        out = self.relu(out)\n",
        "\n",
        "        return out\n",
        "\n",
        "\n",
        "class DRN(nn.Module):\n",
        "    def __init__(self, block, layers, num_classes=10,\n",
        "                 channels=(16, 32, 64, 128, 256, 512, 512, 512),\n",
        "                 out_map=False, out_middle=False, pool_size=8, arch='D'):\n",
        "        super(DRN, self).__init__()\n",
        "        self.inplanes = channels[0]\n",
        "        self.out_map = out_map\n",
        "        self.out_dim = channels[-1]\n",
        "        self.out_middle = out_middle\n",
        "        self.arch = arch\n",
        "\n",
        "        self.conv1 = nn.Conv2d(3, channels[0], kernel_size=3, stride=1,\n",
        "                               padding=1, bias=False)\n",
        "        self.bn1 = nn.BatchNorm2d(channels[0])\n",
        "        self.relu = nn.ReLU(inplace=True)\n",
        "\n",
        "        self.layer1 = self._make_layer(block, channels[0], layers[0], stride=1)\n",
        "        self.layer2 = self._make_layer(block, channels[1], layers[1], stride=2)\n",
        "        self.layer3 = self._make_layer(block, channels[2], layers[2], stride=2)\n",
        "        self.layer4 = self._make_layer(block, channels[3], layers[3], stride=2)\n",
        "        self.layer5 = self._make_layer(block, channels[4], layers[4], dilation=2)\n",
        "        self.layer6 = self._make_layer(block, channels[5], layers[5], dilation=4)\n",
        "\n",
        "        if arch == 'D':\n",
        "            self.layer7 = self._make_layer(block, channels[6], layers[6], dilation=2, residual=False)\n",
        "            self.layer8 = self._make_layer(block, channels[7], layers[7], dilation=1, residual=False)\n",
        "\n",
        "        if num_classes > 0:\n",
        "            self.avgpool = nn.AdaptiveAvgPool2d(1)\n",
        "            self.fc = nn.Linear(self.out_dim, num_classes)\n",
        "\n",
        "    def _make_layer(self, block, planes, blocks, stride=1, dilation=1, residual=True):\n",
        "        downsample = None\n",
        "        if stride != 1 or self.inplanes != planes * block.expansion:\n",
        "            downsample = nn.Sequential(\n",
        "                nn.Conv2d(self.inplanes, planes * block.expansion,\n",
        "                          kernel_size=1, stride=stride, bias=False),\n",
        "                nn.BatchNorm2d(planes * block.expansion)\n",
        "            )\n",
        "\n",
        "        layers = []\n",
        "        layers.append(block(self.inplanes, planes, stride, downsample,\n",
        "                            dilation=(1, 1) if dilation == 1 else (dilation, dilation),\n",
        "                            residual=residual))\n",
        "        self.inplanes = planes * block.expansion\n",
        "        for i in range(1, blocks):\n",
        "            layers.append(block(self.inplanes, planes, dilation=(dilation, dilation), residual=residual))\n",
        "\n",
        "        return nn.Sequential(*layers)\n",
        "\n",
        "    def forward(self, x):\n",
        "        x = self.conv1(x)\n",
        "        x = self.bn1(x)\n",
        "        x = self.relu(x)\n",
        "\n",
        "        x = self.layer1(x)\n",
        "        x = self.layer2(x)\n",
        "        x = self.layer3(x)\n",
        "        x = self.layer4(x)\n",
        "        x = self.layer5(x)\n",
        "        x = self.layer6(x)\n",
        "\n",
        "        if self.arch == 'D':\n",
        "            x = self.layer7(x)\n",
        "            x = self.layer8(x)\n",
        "\n",
        "        if self.out_map:\n",
        "            x = self.fc(x)\n",
        "        else:\n",
        "            x = self.avgpool(x)\n",
        "            x = x.view(x.size(0), -1)\n",
        "            x = self.fc(x)\n",
        "\n",
        "        return x\n",
        "\n",
        "\n",
        "model = DRN(Bottleneck, [1, 1, 1, 1, 2, 2, 1, 1], num_classes=10)\n"
      ]
    },
    {
      "cell_type": "markdown",
      "source": [
        "#DRN-C-26는 4개의 블록을 가지는데, 각 블록의 구성은 [1, 1, 2, 2]"
      ],
      "metadata": {
        "id": "qN9wjHg_foFk"
      }
    },
    {
      "cell_type": "code",
      "source": [
        "import torch\n",
        "import torch.nn as nn\n",
        "\n",
        "\n",
        "def conv3x3(in_planes, out_planes, stride=1, padding=1, dilation=1):\n",
        "    return nn.Conv2d(in_planes, out_planes, kernel_size=3, stride=stride,\n",
        "                     padding=padding, bias=False, dilation=dilation)\n",
        "\n",
        "\n",
        "class BasicBlock(nn.Module):\n",
        "    expansion = 1\n",
        "\n",
        "    def __init__(self, inplanes, planes, stride=1, downsample=None,\n",
        "                 dilation=(1, 1), residual=True):\n",
        "        super(BasicBlock, self).__init__()\n",
        "        self.conv1 = conv3x3(inplanes, planes, stride,\n",
        "                             padding=dilation[0], dilation=dilation[0])\n",
        "        self.bn1 = nn.BatchNorm2d(planes)\n",
        "        self.relu = nn.ReLU(inplace=True)\n",
        "        self.conv2 = conv3x3(planes, planes,\n",
        "                             padding=dilation[1], dilation=dilation[1])\n",
        "        self.bn2 = nn.BatchNorm2d(planes)\n",
        "        self.downsample = downsample\n",
        "        self.stride = stride\n",
        "        self.residual = residual\n",
        "\n",
        "    def forward(self, x):\n",
        "        residual = x\n",
        "\n",
        "        out = self.conv1(x)\n",
        "        out = self.bn1(out)\n",
        "        out = self.relu(out)\n",
        "\n",
        "        out = self.conv2(out)\n",
        "        out = self.bn2(out)\n",
        "\n",
        "        if self.downsample is not None:\n",
        "            residual = self.downsample(x)\n",
        "        if self.residual:\n",
        "            out += residual\n",
        "        out = self.relu(out)\n",
        "\n",
        "        return out\n",
        "\n",
        "\n",
        "class DRNC26(nn.Module):\n",
        "    def __init__(self, num_classes=10):\n",
        "        super(DRNC26, self).__init__()\n",
        "        self.inplanes = 64\n",
        "\n",
        "        self.conv1 = nn.Conv2d(3, 64, kernel_size=7, stride=1, padding=3, bias=False)\n",
        "        self.bn1 = nn.BatchNorm2d(64)\n",
        "        self.relu = nn.ReLU(inplace=True)\n",
        "\n",
        "        self.layer1 = self._make_layer(BasicBlock, 64, 1)\n",
        "        self.layer2 = self._make_layer(BasicBlock, 128, 1, stride=2)\n",
        "        self.layer3 = self._make_layer(BasicBlock, 256, 1, stride=2)\n",
        "        self.layer4 = self._make_layer(BasicBlock, 512, 1, stride=2)\n",
        "\n",
        "        self.avgpool = nn.AdaptiveAvgPool2d((1, 1))\n",
        "        self.fc = nn.Linear(512 * BasicBlock.expansion, num_classes)\n",
        "\n",
        "    def _make_layer(self, block, planes, blocks, stride=1):\n",
        "        downsample = None\n",
        "        if stride != 1 or self.inplanes != planes * block.expansion:\n",
        "            downsample = nn.Sequential(\n",
        "                nn.Conv2d(self.inplanes, planes * block.expansion,\n",
        "                          kernel_size=1, stride=stride, bias=False),\n",
        "                nn.BatchNorm2d(planes * block.expansion)\n",
        "            )\n",
        "\n",
        "        layers = []\n",
        "        layers.append(block(self.inplanes, planes, stride, downsample))\n",
        "        self.inplanes = planes * block.expansion\n",
        "        for _ in range(1, blocks):\n",
        "            layers.append(block(self.inplanes, planes))\n",
        "\n",
        "        return nn.Sequential(*layers)\n",
        "\n",
        "    def forward(self, x):\n",
        "        x = self.conv1(x)\n",
        "        x = self.bn1(x)\n",
        "        x = self.relu(x)\n",
        "\n",
        "        x = self.layer1(x)\n",
        "        x = self.layer2(x)\n",
        "        x = self.layer3(x)\n",
        "        x = self.layer4(x)\n",
        "\n",
        "        x = self.avgpool(x)\n",
        "        x = torch.flatten(x, 1)\n",
        "        x = self.fc(x)\n",
        "\n",
        "        return x\n",
        "\n",
        "# 모델 인스턴스 생성\n",
        "model = DRNC26(num_classes=10)"
      ],
      "metadata": {
        "id": "P8prAZ2gflaQ"
      },
      "execution_count": null,
      "outputs": []
    },
    {
      "cell_type": "markdown",
      "metadata": {
        "id": "rGNQTYaBXSUC"
      },
      "source": [
        "#학습함수(VALID사용)- 스케쥴러사용 x"
      ]
    },
    {
      "cell_type": "code",
      "execution_count": null,
      "metadata": {
        "id": "CFlmOHNlXJkc"
      },
      "outputs": [],
      "source": [
        "def train(model, optimizer, loss_fn, train_loader, valid_loader, epochs):\n",
        "    \n",
        "    since = time.time()\n",
        "    train_loss_history = []\n",
        "    train_acc_history = []\n",
        "    valid_loss_history = []\n",
        "    valid_acc_history = []\n",
        "    best_train_acc = 0\n",
        "    best_epoch = 0\n",
        "    \n",
        "    for epoch in range(epochs):\n",
        "        model.train()\n",
        "        train_loss = 0\n",
        "        train_correct = 0\n",
        "        \n",
        "        for X, y_true in train_loader:\n",
        "            X, y_true = X.to(device), y_true.to(device)\n",
        "            optimizer.zero_grad()\n",
        "            \n",
        "            y_pred = model(X)\n",
        "            loss = loss_fn(y_pred, y_true)\n",
        "            loss.backward()\n",
        "            optimizer.step()\n",
        "            \n",
        "            train_loss += loss.item() * X.size(0)\n",
        "            train_correct += (y_pred.argmax(dim=1) == y_true).sum().item()\n",
        "        \n",
        "        train_loss /= len(train_loader.dataset)\n",
        "        train_acc = train_correct / len(train_loader.dataset)\n",
        "        train_loss_history.append(train_loss)\n",
        "        train_acc_history.append(train_acc)\n",
        "        \n",
        "        if train_acc > best_train_acc:\n",
        "            best_train_acc = train_acc\n",
        "            best_epoch = epoch\n",
        "\n",
        "        # 가장 좋은 결과를 보인 모델의 파라미터 저장\n",
        "        torch.save(model.state_dict(), 'best_model.pth')\n",
        "    \n",
        "        ### 평가 함수 정의 ###\n",
        "        model.eval()\n",
        "        valid_loss = 0\n",
        "        valid_correct = 0\n",
        "        \n",
        "        with torch.no_grad():\n",
        "            for X, y_true in valid_loader:\n",
        "                X, y_true = X.to(device), y_true.to(device)\n",
        "                y_pred = model(X)\n",
        "                loss = loss_fn(y_pred, y_true)\n",
        "                \n",
        "                valid_loss += loss.item() * X.size(0)\n",
        "                valid_correct += (y_pred.argmax(dim=1) == y_true).sum().item()\n",
        "        \n",
        "        valid_loss /= len(valid_loader.dataset)\n",
        "        valid_acc = valid_correct / len(valid_loader.dataset)\n",
        "        valid_loss_history.append(valid_loss)\n",
        "        valid_acc_history.append(valid_acc)\n",
        "            \n",
        "        print(f\"Epoch {epoch+1}/{epochs}\")\n",
        "        print(f\"Train Loss: {train_loss:.4f} Acc: {train_acc:.4f}\")\n",
        "        print(f\"Valid Loss: {valid_loss:.4f} Acc: {valid_acc:.4f}\")\n",
        "        print('--'*15)\n",
        "        \n",
        "    time_elapsed = time.time() - since\n",
        "    print('Training complete in {:.0f}m {:.0f}s'.format(time_elapsed // 60, time_elapsed % 60))\n",
        "    print('Best Acc: {:4f} / Best Epoch: {}'.format(best_train_acc, best_epoch+1))\n",
        "    \n",
        "    return train_loss_history, train_acc_history, valid_loss_history, valid_acc_history"
      ]
    },
    {
      "cell_type": "markdown",
      "metadata": {
        "id": "4UFQNnY9KQkM"
      },
      "source": [
        "#학습함수(VALID사용 X) 스케쥴러 CosineAnnealingLR 사용"
      ]
    },
    {
      "cell_type": "code",
      "execution_count": null,
      "metadata": {
        "id": "_et1DwZdKPya"
      },
      "outputs": [],
      "source": [
        "import torch.optim as optim\n",
        "from torch.optim.lr_scheduler import CosineAnnealingLR\n",
        "\n",
        "# 학습 함수 정의\n",
        "def train(model, optimizer, loss_fn, train_loader, test_loader, epochs):\n",
        "    since = time.time()\n",
        "    train_loss_history = []\n",
        "    train_acc_history = []\n",
        "    test_loss_history = []\n",
        "    test_acc_history = []\n",
        "    best_train_acc = 0\n",
        "    best_epoch = 0\n",
        "\n",
        "    # 스케쥴러 설정\n",
        "    scheduler = CosineAnnealingLR(optimizer, T_max=200)\n",
        "\n",
        "    for epoch in range(epochs):\n",
        "        model.train()\n",
        "        train_loss = 0\n",
        "        train_correct = 0\n",
        "\n",
        "        for X, y_true in train_loader:\n",
        "            X, y_true = X.to(device), y_true.to(device)\n",
        "            optimizer.zero_grad()\n",
        "\n",
        "            y_pred = model(X)\n",
        "            loss = loss_fn(y_pred, y_true)\n",
        "            loss.backward()\n",
        "\n",
        "            optimizer.step()\n",
        "\n",
        "            train_loss += loss.item() * X.size(0)\n",
        "            train_correct += (y_pred.argmax(dim=1) == y_true).sum().item()\n",
        "\n",
        "        train_loss /= len(train_loader.dataset)\n",
        "        train_acc = train_correct / len(train_loader.dataset)\n",
        "        train_loss_history.append(train_loss)\n",
        "        train_acc_history.append(train_acc)\n",
        "\n",
        "        if train_acc > best_train_acc:\n",
        "            best_train_acc = train_acc\n",
        "            best_epoch = epoch\n",
        "\n",
        "        # 가장 좋은 결과를 보인 모델의 파라미터 저장\n",
        "        torch.save(model.state_dict(), 'best_model.pth')\n",
        "\n",
        "        # 평가 함수 정의\n",
        "        model.eval()\n",
        "        test_loss = 0\n",
        "        test_correct = 0\n",
        "\n",
        "        with torch.no_grad():\n",
        "            for X, y_true in test_loader:\n",
        "                X, y_true = X.to(device), y_true.to(device)\n",
        "                y_pred = model(X)\n",
        "                loss = loss_fn(y_pred, y_true)\n",
        "\n",
        "                test_loss += loss.item() * X.size(0)\n",
        "                test_correct += (y_pred.argmax(dim=1) == y_true).sum().item()\n",
        "\n",
        "        test_loss /= len(test_loader.dataset)\n",
        "        test_acc = test_correct / len(test_loader.dataset)\n",
        "        test_loss_history.append(test_loss)\n",
        "        test_acc_history.append(test_acc)\n",
        "\n",
        "        # 스케쥴러 업데이트\n",
        "        scheduler.step(epoch)\n",
        "\n",
        "        print(f\"Epoch {epoch+1}/{epochs}\")\n",
        "        print(f\"Train Loss: {train_loss:.4f} Acc: {train_acc:.4f}\")\n",
        "        print(f\"Test Loss: {test_loss:.4f} Acc: {test_acc:.4f}\")\n",
        "        print('--' * 15)\n",
        "\n",
        "    time_elapsed = time.time() - since\n",
        "    print('Training complete in {:.0f}m {:.0f}s'.format(time_elapsed // 60, time_elapsed % 60))\n",
        "    print('Best Acc: {:4f} / Best Epoch: {}'.format(best_train_acc, best_epoch+1))\n",
        "\n",
        "    return train_loss_history, train_acc_history, test_loss_history, test_acc_history"
      ]
    },
    {
      "cell_type": "markdown",
      "metadata": {
        "id": "RpvohooD-isU"
      },
      "source": [
        "#학습함수(VALID사용 X) 스케쥴러 StepLR 사용\n",
        "\n",
        "\n",
        "\n"
      ]
    },
    {
      "cell_type": "code",
      "execution_count": null,
      "metadata": {
        "id": "tT5zgtEj-iF2"
      },
      "outputs": [],
      "source": [
        "def train(model, optimizer, loss_fn, train_loader, test_loader, epochs):\n",
        "    since = time.time()\n",
        "    train_loss_history = []\n",
        "    train_acc_history = []\n",
        "    test_loss_history = []\n",
        "    test_acc_history = []\n",
        "    best_train_acc = 0\n",
        "    best_epoch = 0\n",
        "\n",
        "    # 스케쥴러 설정\n",
        "    scheduler = optim.lr_scheduler.StepLR(optimizer, step_size=50, gamma=0.1)\n",
        "\n",
        "    for epoch in range(epochs):\n",
        "        model.train()\n",
        "        train_loss = 0\n",
        "        train_correct = 0\n",
        "\n",
        "        for X, y_true in train_loader:\n",
        "            X, y_true = X.to(device), y_true.to(device)\n",
        "            optimizer.zero_grad()\n",
        "\n",
        "            y_pred = model(X)\n",
        "            loss = loss_fn(y_pred, y_true)\n",
        "            loss.backward()\n",
        "            \n",
        "            optimizer.step()\n",
        "\n",
        "            train_loss += loss.item() * X.size(0)\n",
        "            train_correct += (y_pred.argmax(dim=1) == y_true).sum().item()\n",
        "\n",
        "        train_loss /= len(train_loader.dataset)\n",
        "        train_acc = train_correct / len(train_loader.dataset)\n",
        "        train_loss_history.append(train_loss)\n",
        "        train_acc_history.append(train_acc)\n",
        "\n",
        "        if train_acc > best_train_acc:\n",
        "            best_train_acc = train_acc\n",
        "            best_epoch = epoch\n",
        "\n",
        "        # 가장 좋은 결과를 보인 모델의 파라미터 저장\n",
        "        torch.save(model.state_dict(), 'best_model.pth')\n",
        "\n",
        "        ### 평가 함수 정의 ###\n",
        "        model.eval()\n",
        "        test_loss = 0\n",
        "        test_correct = 0\n",
        "\n",
        "        with torch.no_grad():\n",
        "            for X, y_true in test_loader:\n",
        "                X, y_true = X.to(device), y_true.to(device)\n",
        "                y_pred = model(X)\n",
        "                loss = loss_fn(y_pred, y_true)\n",
        "\n",
        "                test_loss += loss.item() * X.size(0)\n",
        "                test_correct += (y_pred.argmax(dim=1) == y_true).sum().item()\n",
        "\n",
        "        test_loss /= len(test_loader.dataset)\n",
        "        test_acc = test_correct / len(test_loader.dataset)\n",
        "        test_loss_history.append(test_loss)\n",
        "        test_acc_history.append(test_acc)\n",
        "\n",
        "        # 스케쥴러 업데이트\n",
        "        scheduler.step()\n",
        "\n",
        "        print(f\"Epoch {epoch+1}/{epochs}\")\n",
        "        print(f\"Train Loss: {train_loss:.4f} Acc: {train_acc:.4f}\")\n",
        "        print(f\"Test Loss: {test_loss:.4f} Acc: {test_acc:.4f}\")\n",
        "        print('--'*15)\n",
        "\n",
        "    time_elapsed = time.time() - since\n",
        "    print('Training complete in {:.0f}m {:.0f}s'.format(time_elapsed // 60, time_elapsed % 60))\n",
        "    print('Best Acc: {:4f} / Best Epoch: {}'.format(best_train_acc, best_epoch+1))\n",
        "\n",
        "    return train_loss_history, train_acc_history, test_loss_history, test_acc_history\n"
      ]
    },
    {
      "cell_type": "markdown",
      "source": [
        "#ATTCG 최적화 함수 구현 시도 - 학습이 거의 잘 안되는 현상 발생"
      ],
      "metadata": {
        "id": "C3gJe2l8uDh3"
      }
    },
    {
      "cell_type": "code",
      "source": [
        "import torch\n",
        "import torch.optim as optim\n",
        "\n",
        "class ATTCG(optim.Optimizer):\n",
        "    def __init__(self, params, lr=0.001, beta=0.999, epsilon=1e-8):\n",
        "        \"\"\"\n",
        "        ATTCG 옵티마이저.\n",
        "\n",
        "        Args:\n",
        "            params (iterable): 최적화할 매개변수들의 iterable.\n",
        "            lr (float, optional): 학습률. 기본값: 0.001.\n",
        "            beta (float, optional): 스텝 사이즈 추정치에 대한 지수적 감소 비율. 기본값: 0.999.\n",
        "            epsilon (float, optional): 0으로 나누기를 방지하기 위한 작은 값. 기본값: 1e-8.\n",
        "        \"\"\"\n",
        "        defaults = dict(lr=lr, beta=beta, epsilon=epsilon)\n",
        "        super(ATTCG, self).__init__(params, defaults)\n",
        "\n",
        "    def step(self, closure=None):\n",
        "        \"\"\"\n",
        "        단일 최적화 스텝을 수행합니다.\n",
        "\n",
        "        Args:\n",
        "            closure (callable, optional): 모델을 다시 평가하고 손실을 반환하는 클로저.\n",
        "                기본값: None.\n",
        "\n",
        "        Returns:\n",
        "            loss (tensor): 현재 손실 값.\n",
        "        \"\"\"\n",
        "        loss = None\n",
        "        if closure is not None:\n",
        "            loss = closure()\n",
        "\n",
        "        for group in self.param_groups:\n",
        "            for p in group['params']:\n",
        "                if p.grad is None:\n",
        "                    continue\n",
        "                grad = p.grad.data\n",
        "                state = self.state[p]\n",
        "\n",
        "                # 상태 변수 초기화\n",
        "                if len(state) == 0:\n",
        "                    state['step'] = 0\n",
        "                    state['m'] = torch.zeros_like(p.data)\n",
        "                    state['v'] = torch.zeros_like(p.data)\n",
        "                    state['v_hat'] = torch.zeros_like(p.data)\n",
        "\n",
        "                # 스텝 업데이트\n",
        "                state['step'] += 1\n",
        "\n",
        "                # beta 계산\n",
        "                if state['step'] > 1:\n",
        "                    g_prev = state['g_prev']\n",
        "                    beta = torch.dot(grad.view(-1), g_prev.view(-1)) / torch.norm(g_prev)**2\n",
        "                else:\n",
        "                    beta = 0\n",
        "\n",
        "                # m과 v 계산\n",
        "                m = -beta * state['m'] + grad\n",
        "                v = beta * state['v'] + (1 - beta) * m**2\n",
        "\n",
        "                # v_hat 업데이트\n",
        "                state['v_hat'] = torch.max(state['v_hat'], v)\n",
        "\n",
        "                # 학습률 계산\n",
        "                lr = group['lr'] * (1 - beta)\n",
        "\n",
        "                # 매개변수 업데이트\n",
        "                p.data.add_(-lr * m / (state['v_hat'] + group['epsilon']))\n",
        "\n",
        "                # 상태 변수 업데이트\n",
        "                state['m'] = m\n",
        "                state['v'] = v\n",
        "                state['g_prev'] = grad.clone()\n",
        "\n",
        "        return loss\n"
      ],
      "metadata": {
        "id": "RcXcCIrtZTAZ"
      },
      "execution_count": null,
      "outputs": []
    },
    {
      "cell_type": "markdown",
      "metadata": {
        "id": "Z9hRmHFqXkX7"
      },
      "source": [
        "#학습실행"
      ]
    },
    {
      "cell_type": "code",
      "execution_count": null,
      "metadata": {
        "id": "w7R0c9vijKNs"
      },
      "outputs": [],
      "source": [
        "from torch.optim.lr_scheduler import StepLR\n",
        "import torch.optim.lr_scheduler as lr_scheduler"
      ]
    },
    {
      "cell_type": "markdown",
      "metadata": {
        "id": "zvSIsrH67rS2"
      },
      "source": [
        "#EfficientNetB7 실행문(224*224시 유의미한 결과- 논문 근거 98% but gpu 한계로 인해 32*32로밖에 실행 불가.)"
      ]
    },
    {
      "cell_type": "code",
      "execution_count": null,
      "metadata": {
        "id": "HNyKvcSBXiFU"
      },
      "outputs": [],
      "source": [
        "model = efficientnet_cifar(width_mult=1.0, depth_mult=1.0, resolution=32, dropout_rate=0.2, num_classes=10)\n",
        "model.to(device)\n",
        "\n",
        "# 손실 함수와 옵티마이저 정의\n",
        "loss_fn = nn.CrossEntropyLoss()\n",
        "\n",
        "optimizer = optim.SGD(model.parameters(), lr=0.1, momentum=0.9, weight_decay=5e-4)\n"
      ]
    },
    {
      "cell_type": "code",
      "execution_count": null,
      "metadata": {
        "id": "HyP9xaZcwi7Z"
      },
      "outputs": [],
      "source": [
        "train_loss_history, train_acc_history, test_loss_history, test_acc_history = train(model, optimizer, loss_fn, train_loader, test_loader, epochs=200)"
      ]
    },
    {
      "cell_type": "markdown",
      "metadata": {
        "id": "kTaewKNG8buX"
      },
      "source": [
        "#CNN/DRN 실행문"
      ]
    },
    {
      "cell_type": "markdown",
      "source": [
        "#ResNet101"
      ],
      "metadata": {
        "id": "wHKb7bTkiKbm"
      }
    },
    {
      "cell_type": "code",
      "source": [
        "# 모델 인스턴스 생성\n",
        "model = ResNet101(num_classes=10) \n",
        "model.to(device)\n",
        "\n",
        "\n",
        "# 손실 함수 정의\n",
        "loss_fn = nn.CrossEntropyLoss()\n",
        "\n",
        "# 옵티마이저 설정\n",
        "optimizer = optim.SGD(model.parameters(), lr=0.01, momentum=0.9, weight_decay=5e-4)\n",
        "\n",
        "# 스케줄러 설정\n",
        "scheduler = StepLR(optimizer, step_size=50, gamma=0.1)"
      ],
      "metadata": {
        "id": "zVrItZtKh8mv"
      },
      "execution_count": null,
      "outputs": []
    },
    {
      "cell_type": "code",
      "source": [
        "train_loss_history, train_acc_history, test_loss_history, test_acc_history = train(model, optimizer, loss_fn, train_loader, test_loader, epochs=200)"
      ],
      "metadata": {
        "id": "bgvRwjeXiBT0"
      },
      "execution_count": null,
      "outputs": []
    },
    {
      "cell_type": "markdown",
      "source": [
        "#ResNet50"
      ],
      "metadata": {
        "id": "sMoKxSGFmSW1"
      }
    },
    {
      "cell_type": "code",
      "execution_count": null,
      "metadata": {
        "id": "n0cyWZY8w-Lt"
      },
      "outputs": [],
      "source": [
        "# 모델 인스턴스 생성\n",
        "model = ResNet50(num_classes=10) \n",
        "model.to(device)\n",
        "\n",
        "# 손실 함수 정의\n",
        "loss_fn = nn.CrossEntropyLoss()\n",
        "\n",
        "# 옵티마이저 설정\n",
        "optimizer = optim.SGD(model.parameters(), lr=0.01, momentum=0.9, weight_decay=5e-4)\n",
        "#optimizer = optim.Adam(model.parameters(), lr=0.001, weight_decay=5e-4)\n",
        "#optimizer = optim.Adam(model.parameters(), lr=0.01, weight_decay=5e-4)\n",
        "#optimizer = optim.RMSprop(model.parameters(), lr=0.01, alpha=0.9, weight_decay=5e-4)\n",
        "#optimizer = optim.RMSprop(model.parameters(), lr=0.001, alpha=0.9, weight_decay=5e-4)\n",
        "#optimizer = ATTCG(model.parameters(), lr=0.01, beta=0.999, epsilon=1e-8)\n",
        "\n",
        "\n",
        "# 스케줄러 설정\n",
        "scheduler = StepLR(optimizer, step_size=50, gamma=0.1)\n",
        "#scheduler = torch.optim.lr_scheduler.CosineAnnealingLR(optimizer, T_max=200)"
      ]
    },
    {
      "cell_type": "code",
      "execution_count": null,
      "metadata": {
        "id": "DSG5GzRULit6"
      },
      "outputs": [],
      "source": [
        "train_loss_history, train_acc_history, test_loss_history, test_acc_history = train(model, optimizer, loss_fn, train_loader, test_loader, epochs=200)"
      ]
    },
    {
      "cell_type": "markdown",
      "metadata": {
        "id": "ZEUfISBBJGab"
      },
      "source": [
        "StepLR 스케줄러: 이 스케줄러는 주어진 step_size 단계마다 학습률을 감소시킵니다. 예를 들어, step_size=50으로 설정하면 50번째 에폭마다 학습률을 감소시킵니다. gamma 인자는 학습률을 감소시키는 비율을 의미합니다. 따라서, gamma=0.1로 설정하면 각 step_size마다 학습률을 0.1배씩 줄입니다. 이 방법은 학습률을 일정한 간격으로 감소시키는 단순한 방식\n",
        "\n",
        "CosineAnnealingLR 스케줄러: 이 스케줄러는 코사인 함수의 형태를 따라 학습률을 조정합니다. 주어진 주기(T_max) 내에서 코사인 함수를 사용하여 학습률을 조절하고, 주기마다 학습률이 최댓값에서 최솟값까지 변화합니다. 이 방법은 학습 초기에 빠르게 학습률을 감소시키고, 이후에는 천천히 감소시킴으로써 모델의 성능을 향상시키는 데 도움\n"
      ]
    },
    {
      "cell_type": "markdown",
      "source": [
        "#ResNet18"
      ],
      "metadata": {
        "id": "mccyYO8emW6y"
      }
    },
    {
      "cell_type": "code",
      "source": [
        "# 모델 인스턴스 생성\n",
        "model = ResNet18(num_classes=10) \n",
        "model.to(device)\n",
        "\n",
        "model.to(device)\n",
        "\n",
        "loss_fn = nn.CrossEntropyLoss()\n",
        "optimizer = optim.SGD(model.parameters(), lr=0.01, momentum=0.9, weight_decay=5e-4)\n",
        "scheduler = StepLR(optimizer, step_size=50, gamma=0.1)\n"
      ],
      "metadata": {
        "id": "VSY_p0WSmWgy"
      },
      "execution_count": null,
      "outputs": []
    },
    {
      "cell_type": "code",
      "source": [
        "train_loss_history, train_acc_history, test_loss_history, test_acc_history = train(model, optimizer, loss_fn, train_loader, test_loader, epochs=10)"
      ],
      "metadata": {
        "id": "Ih0V7PMgmeXU",
        "colab": {
          "base_uri": "https://localhost:8080/"
        },
        "outputId": "0b90c358-1c35-485a-92b2-dff62ce72935"
      },
      "execution_count": null,
      "outputs": [
        {
          "output_type": "stream",
          "name": "stdout",
          "text": [
            "Epoch 1/10\n",
            "Train Loss: 1.4495 Acc: 0.4664\n",
            "Test Loss: 1.3830 Acc: 0.5274\n",
            "------------------------------\n",
            "Epoch 2/10\n",
            "Train Loss: 0.9402 Acc: 0.6666\n",
            "Test Loss: 1.0024 Acc: 0.6746\n",
            "------------------------------\n",
            "Epoch 3/10\n",
            "Train Loss: 0.7123 Acc: 0.7528\n",
            "Test Loss: 0.6686 Acc: 0.7677\n",
            "------------------------------\n",
            "Epoch 4/10\n",
            "Train Loss: 0.5891 Acc: 0.7934\n",
            "Test Loss: 0.6494 Acc: 0.7884\n",
            "------------------------------\n",
            "Epoch 5/10\n",
            "Train Loss: 0.5085 Acc: 0.8250\n",
            "Test Loss: 0.6276 Acc: 0.7956\n",
            "------------------------------\n",
            "Epoch 6/10\n",
            "Train Loss: 0.4549 Acc: 0.8423\n",
            "Test Loss: 0.5463 Acc: 0.8234\n",
            "------------------------------\n",
            "Epoch 7/10\n",
            "Train Loss: 0.4198 Acc: 0.8532\n",
            "Test Loss: 0.5367 Acc: 0.8232\n",
            "------------------------------\n",
            "Epoch 8/10\n",
            "Train Loss: 0.3861 Acc: 0.8665\n",
            "Test Loss: 0.5219 Acc: 0.8310\n",
            "------------------------------\n",
            "Epoch 9/10\n",
            "Train Loss: 0.3488 Acc: 0.8775\n",
            "Test Loss: 0.4681 Acc: 0.8459\n",
            "------------------------------\n",
            "Epoch 10/10\n",
            "Train Loss: 0.3229 Acc: 0.8884\n",
            "Test Loss: 0.4240 Acc: 0.8598\n",
            "------------------------------\n",
            "Training complete in 7m 43s\n",
            "Best Acc: 0.888420 / Best Epoch: 10\n"
          ]
        }
      ]
    },
    {
      "cell_type": "markdown",
      "source": [
        "##DRNC26"
      ],
      "metadata": {
        "id": "UFijZzSDmg4a"
      }
    },
    {
      "cell_type": "code",
      "execution_count": null,
      "metadata": {
        "id": "r8I1j_WV8arB"
      },
      "outputs": [],
      "source": [
        "model = DRN(BasicBlock, [1, 1, 2, 2, 2, 2, 1, 1], num_classes=10)\n",
        "\n",
        "model.to(device)\n",
        "\n",
        "loss_fn = nn.CrossEntropyLoss()\n",
        "optimizer = optim.SGD(model.parameters(), lr=0.01, momentum=0.9, weight_decay=5e-4)\n",
        "scheduler = StepLR(optimizer, step_size=50, gamma=0.1)\n"
      ]
    },
    {
      "cell_type": "code",
      "execution_count": null,
      "metadata": {
        "id": "0CnbCar9I8br"
      },
      "outputs": [],
      "source": [
        "train_loss_history, train_acc_history, test_loss_history, test_acc_history = train(model, optimizer, loss_fn, train_loader, test_loader, epochs=200)"
      ]
    },
    {
      "cell_type": "markdown",
      "source": [
        "#DRND22"
      ],
      "metadata": {
        "id": "xPn6NPk5mjOG"
      }
    },
    {
      "cell_type": "code",
      "source": [
        "model = DRN(BasicBlock, [1, 1, 1, 1, 2, 2, 1, 1], num_classes=10)\n",
        "\n",
        "model.to(device)\n",
        "\n",
        "loss_fn = nn.CrossEntropyLoss()\n",
        "optimizer = optim.SGD(model.parameters(), lr=0.01, momentum=0.9, weight_decay=5e-4)\n",
        "scheduler = StepLR(optimizer, step_size=50, gamma=0.1)\n"
      ],
      "metadata": {
        "id": "XlnPg74emLPe"
      },
      "execution_count": null,
      "outputs": []
    },
    {
      "cell_type": "code",
      "source": [
        "train_loss_history, train_acc_history, test_loss_history, test_acc_history = train(model, optimizer, loss_fn, train_loader, test_loader, epochs=200)"
      ],
      "metadata": {
        "id": "lF4RT5osmOSY"
      },
      "execution_count": null,
      "outputs": []
    },
    {
      "cell_type": "markdown",
      "source": [
        "#기존 GPS 코드"
      ],
      "metadata": {
        "id": "HK-PWwPp2zIB"
      }
    },
    {
      "cell_type": "code",
      "execution_count": null,
      "metadata": {
        "id": "gWqeWfQwGI3O"
      },
      "outputs": [],
      "source": [
        "# DRN-C-26 모델과 손실 함수, 최적화 알고리즘 정의\n",
        "\n",
        "model = DRNC26(num_classes=10)\n",
        "model.to(device)\n",
        "\n",
        "loss_fn = nn.CrossEntropyLoss()\n",
        "optimizer = optim.SGD(model.parameters(), lr=0.01, momentum=0.9, weight_decay=5e-4)\n",
        "scheduler = StepLR(optimizer, step_size=50, gamma=0.1)\n"
      ]
    },
    {
      "cell_type": "code",
      "source": [
        "train_loss_history, train_acc_history, test_loss_history, test_acc_history = train(model, optimizer, loss_fn, train_loader, test_loader, epochs=200)"
      ],
      "metadata": {
        "colab": {
          "base_uri": "https://localhost:8080/"
        },
        "id": "4cUpLRxWgbpr",
        "outputId": "5b8e72ec-b0bb-4c95-de8c-978de83d1c09"
      },
      "execution_count": null,
      "outputs": [
        {
          "output_type": "stream",
          "name": "stdout",
          "text": [
            "Epoch 1/200\n",
            "Train Loss: 1.5294 Acc: 0.4326\n",
            "Test Loss: 1.3805 Acc: 0.5087\n",
            "------------------------------\n",
            "Epoch 2/200\n",
            "Train Loss: 1.0458 Acc: 0.6251\n",
            "Test Loss: 1.2313 Acc: 0.5752\n",
            "------------------------------\n",
            "Epoch 3/200\n",
            "Train Loss: 0.8369 Acc: 0.7046\n",
            "Test Loss: 1.0179 Acc: 0.6610\n",
            "------------------------------\n",
            "Epoch 4/200\n",
            "Train Loss: 0.7150 Acc: 0.7523\n",
            "Test Loss: 0.8784 Acc: 0.7004\n",
            "------------------------------\n",
            "Epoch 5/200\n",
            "Train Loss: 0.6385 Acc: 0.7801\n",
            "Test Loss: 0.6880 Acc: 0.7681\n",
            "------------------------------\n",
            "Epoch 6/200\n",
            "Train Loss: 0.5810 Acc: 0.7998\n",
            "Test Loss: 0.6388 Acc: 0.7879\n",
            "------------------------------\n",
            "Epoch 7/200\n",
            "Train Loss: 0.5394 Acc: 0.8134\n",
            "Test Loss: 0.6314 Acc: 0.7844\n",
            "------------------------------\n",
            "Epoch 8/200\n",
            "Train Loss: 0.5050 Acc: 0.8254\n",
            "Test Loss: 0.7679 Acc: 0.7544\n",
            "------------------------------\n",
            "Epoch 9/200\n",
            "Train Loss: 0.4763 Acc: 0.8355\n",
            "Test Loss: 0.6655 Acc: 0.7772\n",
            "------------------------------\n",
            "Epoch 10/200\n",
            "Train Loss: 0.4523 Acc: 0.8447\n",
            "Test Loss: 0.5463 Acc: 0.8147\n",
            "------------------------------\n",
            "Epoch 11/200\n",
            "Train Loss: 0.4277 Acc: 0.8513\n",
            "Test Loss: 0.5300 Acc: 0.8195\n",
            "------------------------------\n",
            "Epoch 12/200\n",
            "Train Loss: 0.4068 Acc: 0.8612\n",
            "Test Loss: 0.5713 Acc: 0.8165\n",
            "------------------------------\n",
            "Epoch 13/200\n",
            "Train Loss: 0.3965 Acc: 0.8634\n",
            "Test Loss: 0.5662 Acc: 0.8084\n",
            "------------------------------\n",
            "Epoch 14/200\n",
            "Train Loss: 0.3720 Acc: 0.8714\n",
            "Test Loss: 0.5581 Acc: 0.8181\n",
            "------------------------------\n",
            "Epoch 15/200\n",
            "Train Loss: 0.3652 Acc: 0.8740\n",
            "Test Loss: 0.4943 Acc: 0.8329\n",
            "------------------------------\n",
            "Epoch 16/200\n",
            "Train Loss: 0.3477 Acc: 0.8799\n",
            "Test Loss: 0.5133 Acc: 0.8319\n",
            "------------------------------\n",
            "Epoch 17/200\n",
            "Train Loss: 0.3366 Acc: 0.8833\n",
            "Test Loss: 0.4539 Acc: 0.8479\n",
            "------------------------------\n",
            "Epoch 18/200\n",
            "Train Loss: 0.3247 Acc: 0.8895\n",
            "Test Loss: 0.4931 Acc: 0.8354\n",
            "------------------------------\n",
            "Epoch 19/200\n",
            "Train Loss: 0.3185 Acc: 0.8907\n",
            "Test Loss: 0.6220 Acc: 0.8044\n",
            "------------------------------\n",
            "Epoch 20/200\n",
            "Train Loss: 0.3073 Acc: 0.8938\n",
            "Test Loss: 0.4809 Acc: 0.8450\n",
            "------------------------------\n",
            "Epoch 21/200\n",
            "Train Loss: 0.2984 Acc: 0.8965\n",
            "Test Loss: 0.4391 Acc: 0.8531\n",
            "------------------------------\n",
            "Epoch 22/200\n",
            "Train Loss: 0.2914 Acc: 0.8992\n",
            "Test Loss: 0.4050 Acc: 0.8689\n",
            "------------------------------\n",
            "Epoch 23/200\n",
            "Train Loss: 0.2825 Acc: 0.9040\n",
            "Test Loss: 0.4801 Acc: 0.8482\n",
            "------------------------------\n",
            "Epoch 24/200\n",
            "Train Loss: 0.2746 Acc: 0.9058\n",
            "Test Loss: 0.4768 Acc: 0.8498\n",
            "------------------------------\n",
            "Epoch 25/200\n",
            "Train Loss: 0.2656 Acc: 0.9078\n",
            "Test Loss: 0.4011 Acc: 0.8655\n",
            "------------------------------\n",
            "Epoch 26/200\n",
            "Train Loss: 0.2590 Acc: 0.9113\n",
            "Test Loss: 0.4253 Acc: 0.8601\n",
            "------------------------------\n",
            "Epoch 27/200\n",
            "Train Loss: 0.2554 Acc: 0.9117\n",
            "Test Loss: 0.4346 Acc: 0.8595\n",
            "------------------------------\n",
            "Epoch 28/200\n",
            "Train Loss: 0.2503 Acc: 0.9125\n",
            "Test Loss: 0.4467 Acc: 0.8578\n",
            "------------------------------\n",
            "Epoch 29/200\n",
            "Train Loss: 0.2440 Acc: 0.9154\n",
            "Test Loss: 0.4486 Acc: 0.8564\n",
            "------------------------------\n",
            "Epoch 30/200\n",
            "Train Loss: 0.2412 Acc: 0.9164\n",
            "Test Loss: 0.3915 Acc: 0.8726\n",
            "------------------------------\n",
            "Epoch 31/200\n",
            "Train Loss: 0.2325 Acc: 0.9208\n",
            "Test Loss: 0.4683 Acc: 0.8482\n",
            "------------------------------\n",
            "Epoch 32/200\n",
            "Train Loss: 0.2324 Acc: 0.9192\n",
            "Test Loss: 0.4227 Acc: 0.8660\n",
            "------------------------------\n",
            "Epoch 33/200\n",
            "Train Loss: 0.2295 Acc: 0.9205\n",
            "Test Loss: 0.4156 Acc: 0.8692\n",
            "------------------------------\n",
            "Epoch 34/200\n",
            "Train Loss: 0.2225 Acc: 0.9249\n",
            "Test Loss: 0.3932 Acc: 0.8740\n",
            "------------------------------\n",
            "Epoch 35/200\n",
            "Train Loss: 0.2175 Acc: 0.9248\n",
            "Test Loss: 0.3753 Acc: 0.8798\n",
            "------------------------------\n",
            "Epoch 36/200\n",
            "Train Loss: 0.2120 Acc: 0.9268\n",
            "Test Loss: 0.4657 Acc: 0.8522\n",
            "------------------------------\n",
            "Epoch 37/200\n",
            "Train Loss: 0.2139 Acc: 0.9263\n",
            "Test Loss: 0.4740 Acc: 0.8569\n",
            "------------------------------\n",
            "Epoch 38/200\n",
            "Train Loss: 0.2087 Acc: 0.9283\n",
            "Test Loss: 0.4232 Acc: 0.8670\n",
            "------------------------------\n",
            "Epoch 39/200\n",
            "Train Loss: 0.2045 Acc: 0.9309\n",
            "Test Loss: 0.4353 Acc: 0.8631\n",
            "------------------------------\n",
            "Epoch 40/200\n",
            "Train Loss: 0.1990 Acc: 0.9308\n",
            "Test Loss: 0.3786 Acc: 0.8784\n",
            "------------------------------\n",
            "Epoch 41/200\n",
            "Train Loss: 0.1948 Acc: 0.9328\n",
            "Test Loss: 0.4042 Acc: 0.8763\n",
            "------------------------------\n",
            "Epoch 42/200\n",
            "Train Loss: 0.1958 Acc: 0.9321\n",
            "Test Loss: 0.3986 Acc: 0.8726\n",
            "------------------------------\n",
            "Epoch 43/200\n",
            "Train Loss: 0.1946 Acc: 0.9327\n",
            "Test Loss: 0.4096 Acc: 0.8703\n",
            "------------------------------\n",
            "Epoch 44/200\n",
            "Train Loss: 0.1896 Acc: 0.9343\n",
            "Test Loss: 0.4160 Acc: 0.8695\n",
            "------------------------------\n",
            "Epoch 45/200\n",
            "Train Loss: 0.1862 Acc: 0.9352\n",
            "Test Loss: 0.4320 Acc: 0.8687\n",
            "------------------------------\n",
            "Epoch 46/200\n",
            "Train Loss: 0.1867 Acc: 0.9358\n",
            "Test Loss: 0.4292 Acc: 0.8720\n",
            "------------------------------\n",
            "Epoch 47/200\n",
            "Train Loss: 0.1825 Acc: 0.9367\n",
            "Test Loss: 0.3910 Acc: 0.8715\n",
            "------------------------------\n",
            "Epoch 48/200\n",
            "Train Loss: 0.1810 Acc: 0.9373\n",
            "Test Loss: 0.3839 Acc: 0.8819\n",
            "------------------------------\n",
            "Epoch 49/200\n",
            "Train Loss: 0.1801 Acc: 0.9379\n",
            "Test Loss: 0.4639 Acc: 0.8591\n",
            "------------------------------\n",
            "Epoch 50/200\n",
            "Train Loss: 0.1754 Acc: 0.9389\n",
            "Test Loss: 0.4218 Acc: 0.8648\n",
            "------------------------------\n",
            "Epoch 51/200\n",
            "Train Loss: 0.1196 Acc: 0.9616\n",
            "Test Loss: 0.3117 Acc: 0.9001\n",
            "------------------------------\n",
            "Epoch 52/200\n",
            "Train Loss: 0.0987 Acc: 0.9701\n",
            "Test Loss: 0.3052 Acc: 0.9037\n",
            "------------------------------\n",
            "Epoch 53/200\n",
            "Train Loss: 0.0935 Acc: 0.9727\n",
            "Test Loss: 0.3055 Acc: 0.9051\n",
            "------------------------------\n",
            "Epoch 54/200\n",
            "Train Loss: 0.0872 Acc: 0.9735\n",
            "Test Loss: 0.3083 Acc: 0.9037\n",
            "------------------------------\n",
            "Epoch 55/200\n",
            "Train Loss: 0.0855 Acc: 0.9748\n",
            "Test Loss: 0.3080 Acc: 0.9034\n",
            "------------------------------\n",
            "Epoch 56/200\n",
            "Train Loss: 0.0811 Acc: 0.9766\n",
            "Test Loss: 0.3054 Acc: 0.9047\n",
            "------------------------------\n",
            "Epoch 57/200\n",
            "Train Loss: 0.0800 Acc: 0.9776\n",
            "Test Loss: 0.3058 Acc: 0.9052\n",
            "------------------------------\n",
            "Epoch 58/200\n",
            "Train Loss: 0.0760 Acc: 0.9783\n",
            "Test Loss: 0.3046 Acc: 0.9057\n",
            "------------------------------\n",
            "Epoch 59/200\n",
            "Train Loss: 0.0733 Acc: 0.9790\n",
            "Test Loss: 0.3065 Acc: 0.9050\n",
            "------------------------------\n",
            "Epoch 60/200\n",
            "Train Loss: 0.0724 Acc: 0.9796\n",
            "Test Loss: 0.3097 Acc: 0.9056\n",
            "------------------------------\n",
            "Epoch 61/200\n",
            "Train Loss: 0.0710 Acc: 0.9802\n",
            "Test Loss: 0.3097 Acc: 0.9055\n",
            "------------------------------\n",
            "Epoch 62/200\n",
            "Train Loss: 0.0707 Acc: 0.9806\n",
            "Test Loss: 0.3090 Acc: 0.9059\n",
            "------------------------------\n",
            "Epoch 63/200\n",
            "Train Loss: 0.0680 Acc: 0.9814\n",
            "Test Loss: 0.3096 Acc: 0.9047\n",
            "------------------------------\n",
            "Epoch 64/200\n",
            "Train Loss: 0.0668 Acc: 0.9817\n",
            "Test Loss: 0.3136 Acc: 0.9030\n",
            "------------------------------\n",
            "Epoch 65/200\n",
            "Train Loss: 0.0660 Acc: 0.9826\n",
            "Test Loss: 0.3123 Acc: 0.9024\n",
            "------------------------------\n",
            "Epoch 66/200\n",
            "Train Loss: 0.0645 Acc: 0.9824\n",
            "Test Loss: 0.3144 Acc: 0.9019\n",
            "------------------------------\n",
            "Epoch 67/200\n",
            "Train Loss: 0.0625 Acc: 0.9830\n",
            "Test Loss: 0.3145 Acc: 0.9044\n",
            "------------------------------\n",
            "Epoch 68/200\n",
            "Train Loss: 0.0611 Acc: 0.9840\n",
            "Test Loss: 0.3097 Acc: 0.9039\n",
            "------------------------------\n",
            "Epoch 69/200\n",
            "Train Loss: 0.0604 Acc: 0.9843\n",
            "Test Loss: 0.3096 Acc: 0.9048\n",
            "------------------------------\n",
            "Epoch 70/200\n",
            "Train Loss: 0.0591 Acc: 0.9842\n",
            "Test Loss: 0.3122 Acc: 0.9054\n",
            "------------------------------\n",
            "Epoch 71/200\n",
            "Train Loss: 0.0603 Acc: 0.9831\n",
            "Test Loss: 0.3102 Acc: 0.9066\n",
            "------------------------------\n",
            "Epoch 72/200\n",
            "Train Loss: 0.0579 Acc: 0.9847\n",
            "Test Loss: 0.3121 Acc: 0.9055\n",
            "------------------------------\n",
            "Epoch 73/200\n",
            "Train Loss: 0.0581 Acc: 0.9844\n",
            "Test Loss: 0.3150 Acc: 0.9043\n",
            "------------------------------\n",
            "Epoch 74/200\n",
            "Train Loss: 0.0553 Acc: 0.9859\n",
            "Test Loss: 0.3152 Acc: 0.9042\n",
            "------------------------------\n",
            "Epoch 75/200\n",
            "Train Loss: 0.0555 Acc: 0.9850\n",
            "Test Loss: 0.3151 Acc: 0.9038\n",
            "------------------------------\n",
            "Epoch 76/200\n",
            "Train Loss: 0.0554 Acc: 0.9858\n",
            "Test Loss: 0.3150 Acc: 0.9033\n",
            "------------------------------\n",
            "Epoch 77/200\n",
            "Train Loss: 0.0534 Acc: 0.9862\n",
            "Test Loss: 0.3192 Acc: 0.9048\n",
            "------------------------------\n",
            "Epoch 78/200\n",
            "Train Loss: 0.0531 Acc: 0.9875\n",
            "Test Loss: 0.3248 Acc: 0.9031\n",
            "------------------------------\n",
            "Epoch 79/200\n",
            "Train Loss: 0.0510 Acc: 0.9873\n",
            "Test Loss: 0.3174 Acc: 0.9033\n",
            "------------------------------\n",
            "Epoch 80/200\n",
            "Train Loss: 0.0521 Acc: 0.9868\n",
            "Test Loss: 0.3172 Acc: 0.9045\n",
            "------------------------------\n",
            "Epoch 81/200\n",
            "Train Loss: 0.0518 Acc: 0.9869\n",
            "Test Loss: 0.3239 Acc: 0.9043\n",
            "------------------------------\n",
            "Epoch 82/200\n",
            "Train Loss: 0.0516 Acc: 0.9866\n",
            "Test Loss: 0.3205 Acc: 0.9051\n",
            "------------------------------\n",
            "Epoch 83/200\n",
            "Train Loss: 0.0498 Acc: 0.9872\n",
            "Test Loss: 0.3210 Acc: 0.9057\n",
            "------------------------------\n",
            "Epoch 84/200\n",
            "Train Loss: 0.0499 Acc: 0.9875\n",
            "Test Loss: 0.3226 Acc: 0.9056\n",
            "------------------------------\n",
            "Epoch 85/200\n",
            "Train Loss: 0.0496 Acc: 0.9869\n",
            "Test Loss: 0.3224 Acc: 0.9035\n",
            "------------------------------\n",
            "Epoch 86/200\n",
            "Train Loss: 0.0495 Acc: 0.9876\n",
            "Test Loss: 0.3269 Acc: 0.9040\n",
            "------------------------------\n",
            "Epoch 87/200\n",
            "Train Loss: 0.0481 Acc: 0.9885\n",
            "Test Loss: 0.3216 Acc: 0.9057\n",
            "------------------------------\n",
            "Epoch 88/200\n",
            "Train Loss: 0.0466 Acc: 0.9885\n",
            "Test Loss: 0.3256 Acc: 0.9058\n",
            "------------------------------\n",
            "Epoch 89/200\n",
            "Train Loss: 0.0468 Acc: 0.9879\n",
            "Test Loss: 0.3258 Acc: 0.9034\n",
            "------------------------------\n",
            "Epoch 90/200\n",
            "Train Loss: 0.0449 Acc: 0.9889\n",
            "Test Loss: 0.3274 Acc: 0.9046\n",
            "------------------------------\n",
            "Epoch 91/200\n",
            "Train Loss: 0.0451 Acc: 0.9896\n",
            "Test Loss: 0.3282 Acc: 0.9040\n",
            "------------------------------\n",
            "Epoch 92/200\n",
            "Train Loss: 0.0441 Acc: 0.9901\n",
            "Test Loss: 0.3277 Acc: 0.9044\n",
            "------------------------------\n",
            "Epoch 93/200\n",
            "Train Loss: 0.0449 Acc: 0.9893\n",
            "Test Loss: 0.3286 Acc: 0.9039\n",
            "------------------------------\n",
            "Epoch 94/200\n",
            "Train Loss: 0.0438 Acc: 0.9897\n",
            "Test Loss: 0.3248 Acc: 0.9041\n",
            "------------------------------\n",
            "Epoch 95/200\n",
            "Train Loss: 0.0428 Acc: 0.9901\n",
            "Test Loss: 0.3274 Acc: 0.9054\n",
            "------------------------------\n",
            "Epoch 96/200\n",
            "Train Loss: 0.0424 Acc: 0.9899\n",
            "Test Loss: 0.3309 Acc: 0.9028\n",
            "------------------------------\n",
            "Epoch 97/200\n",
            "Train Loss: 0.0433 Acc: 0.9898\n",
            "Test Loss: 0.3298 Acc: 0.9046\n",
            "------------------------------\n",
            "Epoch 98/200\n",
            "Train Loss: 0.0408 Acc: 0.9910\n",
            "Test Loss: 0.3319 Acc: 0.9025\n",
            "------------------------------\n",
            "Epoch 99/200\n",
            "Train Loss: 0.0407 Acc: 0.9911\n",
            "Test Loss: 0.3309 Acc: 0.9035\n",
            "------------------------------\n",
            "Epoch 100/200\n",
            "Train Loss: 0.0420 Acc: 0.9900\n",
            "Test Loss: 0.3287 Acc: 0.9050\n",
            "------------------------------\n",
            "Epoch 101/200\n",
            "Train Loss: 0.0377 Acc: 0.9919\n",
            "Test Loss: 0.3227 Acc: 0.9060\n",
            "------------------------------\n",
            "Epoch 102/200\n",
            "Train Loss: 0.0377 Acc: 0.9921\n",
            "Test Loss: 0.3243 Acc: 0.9054\n",
            "------------------------------\n",
            "Epoch 103/200\n",
            "Train Loss: 0.0364 Acc: 0.9928\n",
            "Test Loss: 0.3266 Acc: 0.9054\n",
            "------------------------------\n",
            "Epoch 104/200\n",
            "Train Loss: 0.0369 Acc: 0.9923\n",
            "Test Loss: 0.3231 Acc: 0.9060\n",
            "------------------------------\n",
            "Epoch 105/200\n",
            "Train Loss: 0.0360 Acc: 0.9927\n",
            "Test Loss: 0.3227 Acc: 0.9068\n",
            "------------------------------\n",
            "Epoch 106/200\n",
            "Train Loss: 0.0368 Acc: 0.9925\n",
            "Test Loss: 0.3247 Acc: 0.9061\n",
            "------------------------------\n",
            "Epoch 107/200\n",
            "Train Loss: 0.0361 Acc: 0.9923\n",
            "Test Loss: 0.3210 Acc: 0.9057\n",
            "------------------------------\n",
            "Epoch 108/200\n",
            "Train Loss: 0.0369 Acc: 0.9921\n",
            "Test Loss: 0.3236 Acc: 0.9058\n",
            "------------------------------\n",
            "Epoch 109/200\n",
            "Train Loss: 0.0361 Acc: 0.9934\n",
            "Test Loss: 0.3247 Acc: 0.9058\n",
            "------------------------------\n",
            "Epoch 110/200\n",
            "Train Loss: 0.0362 Acc: 0.9924\n",
            "Test Loss: 0.3228 Acc: 0.9062\n",
            "------------------------------\n",
            "Epoch 111/200\n",
            "Train Loss: 0.0357 Acc: 0.9929\n",
            "Test Loss: 0.3228 Acc: 0.9066\n",
            "------------------------------\n",
            "Epoch 112/200\n",
            "Train Loss: 0.0345 Acc: 0.9935\n",
            "Test Loss: 0.3219 Acc: 0.9073\n",
            "------------------------------\n",
            "Epoch 113/200\n",
            "Train Loss: 0.0359 Acc: 0.9925\n",
            "Test Loss: 0.3253 Acc: 0.9058\n",
            "------------------------------\n",
            "Epoch 114/200\n",
            "Train Loss: 0.0350 Acc: 0.9933\n",
            "Test Loss: 0.3251 Acc: 0.9066\n",
            "------------------------------\n",
            "Epoch 115/200\n",
            "Train Loss: 0.0353 Acc: 0.9929\n",
            "Test Loss: 0.3252 Acc: 0.9056\n",
            "------------------------------\n",
            "Epoch 116/200\n",
            "Train Loss: 0.0354 Acc: 0.9931\n",
            "Test Loss: 0.3257 Acc: 0.9059\n",
            "------------------------------\n",
            "Epoch 117/200\n",
            "Train Loss: 0.0356 Acc: 0.9929\n",
            "Test Loss: 0.3255 Acc: 0.9061\n",
            "------------------------------\n",
            "Epoch 118/200\n",
            "Train Loss: 0.0354 Acc: 0.9928\n",
            "Test Loss: 0.3246 Acc: 0.9054\n",
            "------------------------------\n",
            "Epoch 119/200\n",
            "Train Loss: 0.0361 Acc: 0.9926\n",
            "Test Loss: 0.3252 Acc: 0.9053\n",
            "------------------------------\n",
            "Epoch 120/200\n",
            "Train Loss: 0.0343 Acc: 0.9935\n",
            "Test Loss: 0.3250 Acc: 0.9062\n",
            "------------------------------\n",
            "Epoch 121/200\n",
            "Train Loss: 0.0358 Acc: 0.9930\n",
            "Test Loss: 0.3256 Acc: 0.9062\n",
            "------------------------------\n",
            "Epoch 122/200\n",
            "Train Loss: 0.0354 Acc: 0.9930\n",
            "Test Loss: 0.3236 Acc: 0.9066\n",
            "------------------------------\n",
            "Epoch 123/200\n",
            "Train Loss: 0.0349 Acc: 0.9928\n",
            "Test Loss: 0.3243 Acc: 0.9066\n",
            "------------------------------\n",
            "Epoch 124/200\n",
            "Train Loss: 0.0346 Acc: 0.9930\n",
            "Test Loss: 0.3239 Acc: 0.9062\n",
            "------------------------------\n",
            "Epoch 125/200\n",
            "Train Loss: 0.0335 Acc: 0.9936\n",
            "Test Loss: 0.3269 Acc: 0.9058\n",
            "------------------------------\n",
            "Epoch 126/200\n",
            "Train Loss: 0.0346 Acc: 0.9932\n",
            "Test Loss: 0.3246 Acc: 0.9059\n",
            "------------------------------\n",
            "Epoch 127/200\n",
            "Train Loss: 0.0352 Acc: 0.9926\n",
            "Test Loss: 0.3278 Acc: 0.9062\n",
            "------------------------------\n",
            "Epoch 128/200\n",
            "Train Loss: 0.0358 Acc: 0.9927\n",
            "Test Loss: 0.3278 Acc: 0.9046\n",
            "------------------------------\n",
            "Epoch 129/200\n",
            "Train Loss: 0.0338 Acc: 0.9934\n",
            "Test Loss: 0.3263 Acc: 0.9063\n",
            "------------------------------\n",
            "Epoch 130/200\n",
            "Train Loss: 0.0344 Acc: 0.9933\n",
            "Test Loss: 0.3250 Acc: 0.9057\n",
            "------------------------------\n",
            "Epoch 131/200\n",
            "Train Loss: 0.0353 Acc: 0.9926\n",
            "Test Loss: 0.3255 Acc: 0.9052\n",
            "------------------------------\n",
            "Epoch 132/200\n",
            "Train Loss: 0.0343 Acc: 0.9931\n",
            "Test Loss: 0.3249 Acc: 0.9060\n",
            "------------------------------\n",
            "Epoch 133/200\n",
            "Train Loss: 0.0347 Acc: 0.9930\n",
            "Test Loss: 0.3260 Acc: 0.9059\n",
            "------------------------------\n",
            "Epoch 134/200\n",
            "Train Loss: 0.0351 Acc: 0.9931\n",
            "Test Loss: 0.3244 Acc: 0.9063\n",
            "------------------------------\n",
            "Epoch 135/200\n",
            "Train Loss: 0.0347 Acc: 0.9931\n",
            "Test Loss: 0.3252 Acc: 0.9065\n",
            "------------------------------\n",
            "Epoch 136/200\n",
            "Train Loss: 0.0336 Acc: 0.9936\n",
            "Test Loss: 0.3271 Acc: 0.9063\n",
            "------------------------------\n",
            "Epoch 137/200\n",
            "Train Loss: 0.0343 Acc: 0.9932\n",
            "Test Loss: 0.3267 Acc: 0.9061\n",
            "------------------------------\n",
            "Epoch 138/200\n",
            "Train Loss: 0.0347 Acc: 0.9933\n",
            "Test Loss: 0.3269 Acc: 0.9059\n",
            "------------------------------\n",
            "Epoch 139/200\n",
            "Train Loss: 0.0334 Acc: 0.9938\n",
            "Test Loss: 0.3236 Acc: 0.9066\n",
            "------------------------------\n",
            "Epoch 140/200\n",
            "Train Loss: 0.0343 Acc: 0.9933\n",
            "Test Loss: 0.3264 Acc: 0.9063\n",
            "------------------------------\n",
            "Epoch 141/200\n",
            "Train Loss: 0.0343 Acc: 0.9934\n",
            "Test Loss: 0.3265 Acc: 0.9055\n",
            "------------------------------\n",
            "Epoch 142/200\n",
            "Train Loss: 0.0341 Acc: 0.9932\n",
            "Test Loss: 0.3262 Acc: 0.9052\n",
            "------------------------------\n",
            "Epoch 143/200\n",
            "Train Loss: 0.0342 Acc: 0.9937\n",
            "Test Loss: 0.3272 Acc: 0.9057\n",
            "------------------------------\n",
            "Epoch 144/200\n",
            "Train Loss: 0.0338 Acc: 0.9938\n",
            "Test Loss: 0.3253 Acc: 0.9071\n",
            "------------------------------\n",
            "Epoch 145/200\n",
            "Train Loss: 0.0335 Acc: 0.9936\n",
            "Test Loss: 0.3292 Acc: 0.9046\n",
            "------------------------------\n",
            "Epoch 146/200\n",
            "Train Loss: 0.0329 Acc: 0.9937\n",
            "Test Loss: 0.3269 Acc: 0.9053\n",
            "------------------------------\n",
            "Epoch 147/200\n",
            "Train Loss: 0.0331 Acc: 0.9936\n",
            "Test Loss: 0.3248 Acc: 0.9059\n",
            "------------------------------\n",
            "Epoch 148/200\n",
            "Train Loss: 0.0333 Acc: 0.9937\n",
            "Test Loss: 0.3247 Acc: 0.9055\n",
            "------------------------------\n",
            "Epoch 149/200\n",
            "Train Loss: 0.0350 Acc: 0.9932\n",
            "Test Loss: 0.3270 Acc: 0.9059\n",
            "------------------------------\n",
            "Epoch 150/200\n",
            "Train Loss: 0.0323 Acc: 0.9941\n",
            "Test Loss: 0.3275 Acc: 0.9056\n",
            "------------------------------\n",
            "Epoch 151/200\n",
            "Train Loss: 0.0329 Acc: 0.9936\n",
            "Test Loss: 0.3246 Acc: 0.9067\n",
            "------------------------------\n",
            "Epoch 152/200\n",
            "Train Loss: 0.0325 Acc: 0.9939\n",
            "Test Loss: 0.3276 Acc: 0.9063\n",
            "------------------------------\n",
            "Epoch 153/200\n",
            "Train Loss: 0.0332 Acc: 0.9933\n",
            "Test Loss: 0.3302 Acc: 0.9057\n",
            "------------------------------\n",
            "Epoch 154/200\n",
            "Train Loss: 0.0328 Acc: 0.9938\n",
            "Test Loss: 0.3279 Acc: 0.9058\n",
            "------------------------------\n",
            "Epoch 155/200\n",
            "Train Loss: 0.0326 Acc: 0.9939\n",
            "Test Loss: 0.3310 Acc: 0.9053\n",
            "------------------------------\n",
            "Epoch 156/200\n",
            "Train Loss: 0.0335 Acc: 0.9932\n",
            "Test Loss: 0.3266 Acc: 0.9058\n",
            "------------------------------\n",
            "Epoch 157/200\n",
            "Train Loss: 0.0333 Acc: 0.9933\n",
            "Test Loss: 0.3258 Acc: 0.9057\n",
            "------------------------------\n",
            "Epoch 158/200\n",
            "Train Loss: 0.0333 Acc: 0.9938\n",
            "Test Loss: 0.3297 Acc: 0.9058\n",
            "------------------------------\n",
            "Epoch 159/200\n",
            "Train Loss: 0.0320 Acc: 0.9941\n",
            "Test Loss: 0.3261 Acc: 0.9054\n",
            "------------------------------\n",
            "Epoch 160/200\n",
            "Train Loss: 0.0333 Acc: 0.9935\n",
            "Test Loss: 0.3302 Acc: 0.9057\n",
            "------------------------------\n",
            "Epoch 161/200\n",
            "Train Loss: 0.0334 Acc: 0.9934\n",
            "Test Loss: 0.3257 Acc: 0.9067\n",
            "------------------------------\n",
            "Epoch 162/200\n",
            "Train Loss: 0.0337 Acc: 0.9938\n",
            "Test Loss: 0.3256 Acc: 0.9068\n",
            "------------------------------\n",
            "Epoch 163/200\n",
            "Train Loss: 0.0325 Acc: 0.9939\n",
            "Test Loss: 0.3269 Acc: 0.9065\n",
            "------------------------------\n",
            "Epoch 164/200\n",
            "Train Loss: 0.0329 Acc: 0.9938\n",
            "Test Loss: 0.3271 Acc: 0.9056\n",
            "------------------------------\n",
            "Epoch 165/200\n",
            "Train Loss: 0.0330 Acc: 0.9938\n",
            "Test Loss: 0.3288 Acc: 0.9057\n",
            "------------------------------\n",
            "Epoch 166/200\n",
            "Train Loss: 0.0342 Acc: 0.9930\n",
            "Test Loss: 0.3290 Acc: 0.9064\n",
            "------------------------------\n",
            "Epoch 167/200\n",
            "Train Loss: 0.0334 Acc: 0.9938\n",
            "Test Loss: 0.3253 Acc: 0.9063\n",
            "------------------------------\n",
            "Epoch 168/200\n",
            "Train Loss: 0.0334 Acc: 0.9939\n",
            "Test Loss: 0.3282 Acc: 0.9068\n",
            "------------------------------\n",
            "Epoch 169/200\n",
            "Train Loss: 0.0321 Acc: 0.9936\n",
            "Test Loss: 0.3273 Acc: 0.9063\n",
            "------------------------------\n",
            "Epoch 170/200\n",
            "Train Loss: 0.0334 Acc: 0.9933\n",
            "Test Loss: 0.3255 Acc: 0.9061\n",
            "------------------------------\n",
            "Epoch 171/200\n",
            "Train Loss: 0.0343 Acc: 0.9931\n",
            "Test Loss: 0.3269 Acc: 0.9076\n",
            "------------------------------\n",
            "Epoch 172/200\n",
            "Train Loss: 0.0332 Acc: 0.9935\n",
            "Test Loss: 0.3297 Acc: 0.9060\n",
            "------------------------------\n",
            "Epoch 173/200\n",
            "Train Loss: 0.0341 Acc: 0.9931\n",
            "Test Loss: 0.3286 Acc: 0.9064\n",
            "------------------------------\n",
            "Epoch 174/200\n",
            "Train Loss: 0.0328 Acc: 0.9935\n",
            "Test Loss: 0.3293 Acc: 0.9060\n",
            "------------------------------\n",
            "Epoch 175/200\n",
            "Train Loss: 0.0330 Acc: 0.9935\n",
            "Test Loss: 0.3269 Acc: 0.9064\n",
            "------------------------------\n",
            "Epoch 176/200\n",
            "Train Loss: 0.0339 Acc: 0.9935\n",
            "Test Loss: 0.3264 Acc: 0.9064\n",
            "------------------------------\n",
            "Epoch 177/200\n",
            "Train Loss: 0.0335 Acc: 0.9935\n",
            "Test Loss: 0.3266 Acc: 0.9067\n",
            "------------------------------\n",
            "Epoch 178/200\n",
            "Train Loss: 0.0333 Acc: 0.9936\n",
            "Test Loss: 0.3302 Acc: 0.9063\n",
            "------------------------------\n",
            "Epoch 179/200\n",
            "Train Loss: 0.0317 Acc: 0.9943\n",
            "Test Loss: 0.3304 Acc: 0.9050\n",
            "------------------------------\n",
            "Epoch 180/200\n",
            "Train Loss: 0.0339 Acc: 0.9935\n",
            "Test Loss: 0.3262 Acc: 0.9070\n",
            "------------------------------\n",
            "Epoch 181/200\n",
            "Train Loss: 0.0331 Acc: 0.9940\n",
            "Test Loss: 0.3265 Acc: 0.9074\n",
            "------------------------------\n",
            "Epoch 182/200\n",
            "Train Loss: 0.0343 Acc: 0.9931\n",
            "Test Loss: 0.3260 Acc: 0.9061\n",
            "------------------------------\n",
            "Epoch 183/200\n",
            "Train Loss: 0.0334 Acc: 0.9938\n",
            "Test Loss: 0.3276 Acc: 0.9061\n",
            "------------------------------\n",
            "Epoch 184/200\n",
            "Train Loss: 0.0328 Acc: 0.9934\n",
            "Test Loss: 0.3267 Acc: 0.9055\n",
            "------------------------------\n",
            "Epoch 185/200\n",
            "Train Loss: 0.0329 Acc: 0.9937\n",
            "Test Loss: 0.3249 Acc: 0.9065\n",
            "------------------------------\n",
            "Epoch 186/200\n",
            "Train Loss: 0.0329 Acc: 0.9937\n",
            "Test Loss: 0.3272 Acc: 0.9058\n",
            "------------------------------\n",
            "Epoch 187/200\n",
            "Train Loss: 0.0333 Acc: 0.9931\n",
            "Test Loss: 0.3277 Acc: 0.9060\n",
            "------------------------------\n",
            "Epoch 188/200\n",
            "Train Loss: 0.0329 Acc: 0.9936\n",
            "Test Loss: 0.3272 Acc: 0.9065\n",
            "------------------------------\n",
            "Epoch 189/200\n",
            "Train Loss: 0.0333 Acc: 0.9934\n",
            "Test Loss: 0.3282 Acc: 0.9065\n",
            "------------------------------\n",
            "Epoch 190/200\n",
            "Train Loss: 0.0324 Acc: 0.9944\n",
            "Test Loss: 0.3260 Acc: 0.9063\n",
            "------------------------------\n",
            "Epoch 191/200\n",
            "Train Loss: 0.0330 Acc: 0.9937\n",
            "Test Loss: 0.3275 Acc: 0.9054\n",
            "------------------------------\n",
            "Epoch 192/200\n",
            "Train Loss: 0.0334 Acc: 0.9935\n",
            "Test Loss: 0.3283 Acc: 0.9052\n",
            "------------------------------\n",
            "Epoch 193/200\n",
            "Train Loss: 0.0327 Acc: 0.9937\n",
            "Test Loss: 0.3281 Acc: 0.9056\n",
            "------------------------------\n",
            "Epoch 194/200\n",
            "Train Loss: 0.0319 Acc: 0.9944\n",
            "Test Loss: 0.3272 Acc: 0.9057\n",
            "------------------------------\n",
            "Epoch 195/200\n",
            "Train Loss: 0.0334 Acc: 0.9938\n",
            "Test Loss: 0.3273 Acc: 0.9062\n",
            "------------------------------\n",
            "Epoch 196/200\n",
            "Train Loss: 0.0327 Acc: 0.9939\n",
            "Test Loss: 0.3285 Acc: 0.9060\n",
            "------------------------------\n",
            "Epoch 197/200\n",
            "Train Loss: 0.0330 Acc: 0.9936\n",
            "Test Loss: 0.3278 Acc: 0.9058\n",
            "------------------------------\n",
            "Epoch 198/200\n",
            "Train Loss: 0.0326 Acc: 0.9940\n",
            "Test Loss: 0.3268 Acc: 0.9056\n",
            "------------------------------\n",
            "Epoch 199/200\n",
            "Train Loss: 0.0336 Acc: 0.9933\n",
            "Test Loss: 0.3262 Acc: 0.9067\n",
            "------------------------------\n",
            "Epoch 200/200\n",
            "Train Loss: 0.0329 Acc: 0.9936\n",
            "Test Loss: 0.3282 Acc: 0.9061\n",
            "------------------------------\n",
            "Training complete in 51m 34s\n",
            "Best Acc: 0.994420 / Best Epoch: 194\n"
          ]
        }
      ]
    },
    {
      "cell_type": "code",
      "execution_count": null,
      "metadata": {
        "id": "9wudngJ_kH32",
        "colab": {
          "base_uri": "https://localhost:8080/"
        },
        "outputId": "815df5ee-61a6-485a-a783-e3345f552774"
      },
      "outputs": [
        {
          "output_type": "stream",
          "name": "stdout",
          "text": [
            "Test Accuracy: 90.61%\n"
          ]
        }
      ],
      "source": [
        "# 저장된 모델 파라미터 로드\n",
        "model.load_state_dict(torch.load('best_model.pth'))\n",
        "\n",
        "# 평가 모드로 설정\n",
        "model.eval()\n",
        "\n",
        "# 추론 수행\n",
        "correct = 0\n",
        "total = 0\n",
        "\n",
        "with torch.no_grad():\n",
        "    for data in test_loader:\n",
        "        images, labels = data[0].to(device), data[1].to(device)\n",
        "        outputs = model(images)\n",
        "        _, predicted = torch.max(outputs.data, 1)\n",
        "        total += labels.size(0)\n",
        "        correct += (predicted == labels).sum().item()\n",
        "\n",
        "accuracy = correct / total * 100\n",
        "print('Test Accuracy: {:.2f}%'.format(accuracy))"
      ]
    },
    {
      "cell_type": "code",
      "execution_count": null,
      "metadata": {
        "id": "wW_llqrxXJiE"
      },
      "outputs": [],
      "source": [
        "### 테스트 함수 정의 ###\n",
        "def test(model, test_loader):\n",
        "    model.eval()\n",
        "    correct = 0\n",
        "    total = 0\n",
        "    with torch.no_grad():\n",
        "        for X, y_true in test_loader:\n",
        "            X, y_true = X.to(device), y_true.to(device)\n",
        "            y_pred = model(X)\n",
        "            _, predicted = torch.max(y_pred.data, 1)\n",
        "            total += y_true.size(0)\n",
        "            correct += (predicted == y_true).sum().item()\n",
        "\n",
        "    test_acc = correct / total\n",
        "    print(f\"Test Acc: {test_acc:.4f}\")\n",
        "\n",
        "    return test_acc"
      ]
    },
    {
      "cell_type": "code",
      "execution_count": null,
      "metadata": {
        "id": "bsI7qNMx8qqR",
        "colab": {
          "base_uri": "https://localhost:8080/"
        },
        "outputId": "cffb99a4-27e7-42ad-f764-c216f78d81ec"
      },
      "outputs": [
        {
          "output_type": "stream",
          "name": "stdout",
          "text": [
            "Test Acc: 0.9061\n"
          ]
        }
      ],
      "source": [
        "# Test accuracy 출력\n",
        "test_acc = test(model, test_loader)"
      ]
    },
    {
      "cell_type": "code",
      "execution_count": null,
      "metadata": {
        "id": "Vk6K_k8Z8mRt",
        "colab": {
          "base_uri": "https://localhost:8080/",
          "height": 957
        },
        "outputId": "13f04cdc-6312-4348-fa3f-88c33dd52367"
      },
      "outputs": [
        {
          "output_type": "display_data",
          "data": {
            "text/plain": [
              "<Figure size 1000x500 with 1 Axes>"
            ],
            "image/png": "[encoded data removed]"
          },
          "metadata": {}
        },
        {
          "output_type": "display_data",
          "data": {
            "text/plain": [
              "<Figure size 1000x500 with 1 Axes>"
            ],
            "image/png": "[encoded data removed]"
          },
          "metadata": {}
        }
      ],
      "source": [
        "def plot_history(train_loss_history, train_acc_history, test_loss_history, test_acc_history):\n",
        "    epochs = len(train_loss_history)\n",
        "\n",
        "    # Loss 그래프\n",
        "    plt.figure(figsize=(10, 5))\n",
        "    plt.plot(range(1, epochs+1), train_loss_history, label='Train Loss')\n",
        "    plt.plot(range(1, epochs+1), test_loss_history, label='Test Loss')\n",
        "    plt.xlabel('Epochs')\n",
        "    plt.ylabel('Loss')\n",
        "    plt.title('Train and Test Loss')\n",
        "    plt.legend()\n",
        "    plt.show()\n",
        "\n",
        "    # Accuracy 그래프\n",
        "    plt.figure(figsize=(10, 5))\n",
        "    plt.plot(range(1, epochs+1), train_acc_history, label='Train Accuracy')\n",
        "    plt.plot(range(1, epochs+1), test_acc_history, label='Test Accuracy')\n",
        "    plt.xlabel('Epochs')\n",
        "    plt.ylabel('Accuracy')\n",
        "    plt.title('Train and Test Accuracy')\n",
        "    plt.legend()\n",
        "    plt.show()\n",
        "\n",
        "# train_loss_history, train_acc_history, test_loss_history, test_acc_history에 대한 결과를 PLOT\n",
        "plot_history(train_loss_history, train_acc_history, test_loss_history, test_acc_history)"
      ]
    },
    {
      "cell_type": "markdown",
      "metadata": {
        "id": "EC8siW4bXom0"
      },
      "source": [
        "#confusion matrix"
      ]
    },
    {
      "cell_type": "code",
      "execution_count": null,
      "metadata": {
        "id": "APfIj55oPxol"
      },
      "outputs": [],
      "source": [
        "import matplotlib.pyplot as plt\n",
        "import seaborn as sns\n",
        "from sklearn.metrics import confusion_matrix\n",
        "\n",
        "def plot_confusion_matrix(model, data_loader, classes, title='Confusion matrix', cmap=plt.cm.Blues):\n",
        "    \"\"\"\n",
        "    This function prints and plots the confusion matrix.\n",
        "    \"\"\"\n",
        "    model.eval()\n",
        "    y_true = []\n",
        "    y_pred = []\n",
        "    with torch.no_grad():\n",
        "        for inputs, labels in data_loader:\n",
        "            inputs = inputs.to(device)\n",
        "            labels = labels.to(device)\n",
        "            outputs = model(inputs)\n",
        "            _, preds = torch.max(outputs, 1)\n",
        "            y_true.extend(labels.cpu().numpy().tolist())\n",
        "            y_pred.extend(preds.cpu().numpy().tolist())\n",
        "    \n",
        "    cm = confusion_matrix(y_true, y_pred)\n",
        "    plt.figure(figsize=(8, 8))\n",
        "    sns.heatmap(cm, annot=True, cmap=cmap, fmt='d', xticklabels=classes, yticklabels=classes)\n",
        "    plt.title(title, fontsize=16)\n",
        "    plt.xlabel('True label', fontsize=14)\n",
        "    plt.ylabel('Predicted label', fontsize=14)\n",
        "    plt.xticks(fontsize=12)\n",
        "    plt.yticks(fontsize=12)\n",
        "    plt.tight_layout()\n",
        "\n",
        "    \n",
        "# usage\n",
        "plot_confusion_matrix(model, test_loader, classes)\n"
      ]
    },
    {
      "cell_type": "code",
      "execution_count": null,
      "metadata": {
        "id": "-bX2ziRhHWBO"
      },
      "outputs": [],
      "source": [
        "from sklearn.metrics import classification_report\n",
        "\n",
        "def print_classification_report(model, data_loader, classes):\n",
        "    model.eval()\n",
        "    y_true = []\n",
        "    y_pred = []\n",
        "    with torch.no_grad():\n",
        "        for inputs, labels in data_loader:\n",
        "            inputs = inputs.to(device)\n",
        "            labels = labels.to(device)\n",
        "            outputs = model(inputs)\n",
        "            _, preds = torch.max(outputs, 1)\n",
        "            y_true.extend(labels.cpu().numpy().tolist())\n",
        "            y_pred.extend(preds.cpu().numpy().tolist())\n",
        "    \n",
        "    report = classification_report(y_true, y_pred, target_names=classes)\n",
        "    print(report)\n"
      ]
    },
    {
      "cell_type": "markdown",
      "metadata": {
        "id": "57ZtJZNfyyqx"
      },
      "source": [
        "support-분류 모델에서 각 클래스에 속하는 샘플의 수\n",
        "\n"
      ]
    },
    {
      "cell_type": "code",
      "execution_count": null,
      "metadata": {
        "id": "Ou21czCwHW1l"
      },
      "outputs": [],
      "source": [
        "print_classification_report(model, test_loader, classes)\n"
      ]
    },
    {
      "cell_type": "markdown",
      "metadata": {
        "id": "VMpQ34uiXy5L"
      },
      "source": [
        "#GRAD-CAM"
      ]
    },
    {
      "cell_type": "code",
      "execution_count": null,
      "metadata": {
        "id": "AviLcjSroXA6"
      },
      "outputs": [],
      "source": [
        "from PIL import Image\n",
        "import torchvision.models as models"
      ]
    },
    {
      "cell_type": "code",
      "execution_count": null,
      "metadata": {
        "id": "2t8-a3RxpRn4"
      },
      "outputs": [],
      "source": [
        "class CAM:\n",
        "    def __init__(self, model, target_layer):\n",
        "        self.model = model\n",
        "        self.target_layer = target_layer\n",
        "        self.activation_map = None\n",
        "        self.gradient = None\n",
        "\n",
        "        self.model.eval()\n",
        "\n",
        "        self.register_hooks()\n",
        "\n",
        "    def register_hooks(self):\n",
        "        def backward_hook(module, grad_input, grad_output):\n",
        "            self.gradient = grad_output[0]\n",
        "\n",
        "        def forward_hook(module, input, output):\n",
        "            self.activation_map = output.detach()\n",
        "\n",
        "        target_layer = self.model._modules.get(self.target_layer)\n",
        "\n",
        "        backward_hook_handle = target_layer.register_backward_hook(backward_hook)\n",
        "        forward_hook_handle = target_layer.register_forward_hook(forward_hook)\n",
        "\n",
        "        self.handles = [backward_hook_handle, forward_hook_handle]\n",
        "\n",
        "        # 모델의 forward 연산을 한 번 실행하여 backward_hook을 등록합니다.\n",
        "        _ = self.model(torch.zeros((1, 3, 32, 32)).to(next(self.model.parameters()).device))\n",
        "\n",
        "    def remove_hooks(self):\n",
        "        for handle in self.handles:\n",
        "            handle.remove()\n",
        "\n",
        "    def forward(self, input):\n",
        "        return self.model(input)\n",
        "\n",
        "    def backward(self, label):\n",
        "        one_hot = torch.zeros_like(self.gradient)\n",
        "        one_hot[0][label] = 1\n",
        "\n",
        "        self.model.zero_grad()\n",
        "\n",
        "        self.gradient.backward(gradient=one_hot, retain_graph=True)\n",
        "\n",
        "\n",
        " #DRNC26   \n",
        "    def generate_cam(self, input, label):\n",
        "        output = self.forward(input)\n",
        "        if self.gradient is not None:\n",
        "            self.backward(label)\n",
        "\n",
        "        weights = list(self.model.parameters())[-2]\n",
        "        weights = nn.functional.interpolate(weights.unsqueeze(-1).unsqueeze(-1), \n",
        "                                            size=(8, 8),  # DRNC26 모델의 출력 feature map 크기\n",
        "                                            mode='bilinear', \n",
        "                                            align_corners=False)\n",
        "        weights = weights.squeeze()\n",
        "\n",
        "        # 해당 label에 대한 CAM을 만들기 위해, 해당 label에 대한 가중치만 추출합니다.\n",
        "        # 예를 들어, 개에 대한 CAM을 만들기 위해, label=0에 대한 가중치만 추출합니다.\n",
        "        weight = weights[label]\n",
        "\n",
        "        cam = (weight * self.activation_map).sum(dim=1, keepdim=True)\n",
        "        cam = nn.functional.relu(cam)\n",
        "\n",
        "        cam = nn.functional.interpolate(cam, size=input.shape[2:], mode='bilinear', align_corners=False)\n",
        "        cam -= cam.min()\n",
        "        cam /= cam.max()\n",
        "\n",
        "        return cam[0][0].detach().numpy()\n",
        "\n",
        "\n",
        "def generate_cam(self, input, label):\n",
        "    output = self.forward(input)\n",
        "    if self.gradient is not None:\n",
        "        self.backward(label)\n",
        "\n",
        "    weights = list(self.model.parameters())[-2]\n",
        "    weights = nn.functional.interpolate(weights.unsqueeze(-1).unsqueeze(-1),\n",
        "                                        size=(input.shape[2], input.shape[3]),\n",
        "                                        mode='bilinear',\n",
        "                                        align_corners=False)\n",
        "    weights = weights.squeeze()\n",
        "\n",
        "    weight = weights[label]\n",
        "\n",
        "    # 입력 이미지의 크기에 맞게 활성화 맵의 크기를 조정합니다.\n",
        "    activation_map_resized = nn.functional.interpolate(self.activation_map, size=(input.shape[2], input.shape[3]), mode='bilinear', align_corners=False)\n",
        "\n",
        "    cam = (weight * activation_map_resized).sum(dim=1, keepdim=True)\n",
        "    cam = nn.functional.relu(cam)\n",
        "\n",
        "    cam = nn.functional.interpolate(cam, size=(input.shape[2], input.shape[3]), mode='bilinear', align_corners=False)\n",
        "    cam -= cam.min()\n",
        "    cam /= cam.max()\n",
        "\n",
        "    return cam[0][0].detach().numpy()\n",
        "\n"
      ]
    },
    {
      "cell_type": "markdown",
      "metadata": {
        "id": "abrs_RPMsed7"
      },
      "source": [
        "DRNC26"
      ]
    },
    {
      "cell_type": "code",
      "execution_count": null,
      "metadata": {
        "id": "fJ3ys3cWpnPj"
      },
      "outputs": [],
      "source": [
        "# RESNET-50 모델을 생성합니다.\n",
        "#model = models.resnet50(pretrained=True)\n",
        "#model.fc = nn.Linear(model.fc.in_features, 10)  # CIFAR-10 클래스 수에 맞게 출력 레이어를 수정합니다.\n",
        "\n",
        "\n",
        "model =DRNC26(num_classes=10)\n",
        "model.fc = nn.Linear(model.fc.in_features, 10)  # CIFAR-10 클래스 수에 맞게 출력 레이어를 수정합니다.\n",
        "\n",
        "# 학습된 모델 파라미터를 불러옵니다.\n",
        "model.load_state_dict(torch.load('best_model.pth'))\n",
        "\n",
        "# CAM 클래스를 생성합니다.\n",
        "cam_generator = CAM(model, target_layer='layer3')\n",
        "\n",
        "\n",
        "img = Image.open('/content/drive/MyDrive/DOG.PNG')\n",
        "# 이미지의 채널 수가 3이 아닌 경우, RGB로 변환합니다.\n",
        "if img.mode != 'RGB':\n",
        "    img = img.convert('RGB')\n",
        "\n",
        "\n",
        "\n",
        "\n",
        "# 이미지를 불러와서 전처리합니다.\n",
        "transform = transforms.Compose([\n",
        "    transforms.Resize((32, 32)),\n",
        "    transforms.ToTensor(),\n",
        "    transforms.Normalize((0.5, 0.5, 0.5), (0.5, 0.5, 0.5))\n",
        "])\n",
        "\n",
        "\n",
        "img = transform(img).unsqueeze(0)\n",
        "\n",
        "\n",
        "# 모델에 이미지를 입력하여 예측 결과와 CAM을 생성합니다.\n",
        "output = model(img)\n",
        "pred = output.argmax(dim=1).item()\n",
        "cam_img = cam_generator.generate_cam(img, label=5)\n",
        "\n",
        "# 결과를 시각화합니다.\n",
        "plt.subplot(121)\n",
        "plt.imshow(img.squeeze().permute(1, 2, 0).numpy())\n",
        "plt.title('Input Image')\n",
        "plt.axis('off')\n",
        "plt.subplot(122)\n",
        "plt.imshow(cam_img, cmap='jet')\n",
        "plt.title('Class Activation Map')\n",
        "plt.axis('off')\n",
        "plt.show()\n"
      ]
    },
    {
      "cell_type": "markdown",
      "metadata": {
        "id": "aLVNE6EOsjWG"
      },
      "source": [
        "RESNET50"
      ]
    },
    {
      "cell_type": "code",
      "execution_count": null,
      "metadata": {
        "id": "Z1jzeC2c37tL"
      },
      "outputs": [],
      "source": [
        "input_image = Image.open(img)\n",
        "input_image"
      ]
    },
    {
      "cell_type": "markdown",
      "metadata": {
        "id": "Ci9sk5raYCkM"
      },
      "source": [
        "#훈련된 모델로 추론시 해당 이미지와 가장 비슷한 (이미지 유사도가 가까운) 이미지 여러 개 (10개) 보여주는 기능 추가\n",
        "\n"
      ]
    },
    {
      "cell_type": "markdown",
      "metadata": {
        "id": "FeogGto5PgJF"
      },
      "source": [
        "#아무 이미지 저장해서 지정"
      ]
    },
    {
      "cell_type": "code",
      "source": [
        "from PIL import Image"
      ],
      "metadata": {
        "id": "8IpgzMZDr6AW"
      },
      "execution_count": null,
      "outputs": []
    },
    {
      "cell_type": "code",
      "execution_count": null,
      "metadata": {
        "id": "elSJxEilkyEC"
      },
      "outputs": [],
      "source": [
        "image_path = '/content/drive/MyDrive/plane.PNG'"
      ]
    },
    {
      "cell_type": "code",
      "execution_count": null,
      "metadata": {
        "id": "A7aAkwsi3zqI",
        "colab": {
          "base_uri": "https://localhost:8080/",
          "height": 639
        },
        "outputId": "593068e8-0379-48b5-9cdb-a3dd2e873489"
      },
      "outputs": [
        {
          "output_type": "execute_result",
          "data": {
            "text/plain": [
              "<PIL.PngImagePlugin.PngImageFile image mode=RGBA size=941x622 at 0x7FE17CB474F0>"
            ],
            "image/png": "[encoded data removed]"
          },
          "metadata": {},
          "execution_count": 18
        }
      ],
      "source": [
        "input_image = Image.open(image_path)\n",
        "input_image"
      ]
    },
    {
      "cell_type": "markdown",
      "source": [
        "아래 코드들은 다 실험용\n",
        "get 함수가 포함되어있는 drnc26코드 돌려야함."
      ],
      "metadata": {
        "id": "TJYwNcrhe828"
      }
    },
    {
      "cell_type": "markdown",
      "source": [
        "#유클리디안 거리(Euclidean distance)"
      ],
      "metadata": {
        "id": "DsXuaxM6_U8t"
      }
    },
    {
      "cell_type": "markdown",
      "source": [
        "#코사인 유사도(Cosine Similarity)\n",
        "\n",
        "코사인 유사도는 두 벡터 간의 방향과 크기를 고려하여 유사도를 측정하는 지표입니다. 벡터의 크기에 영향을 받지 않고 벡터의 방향만을 고려하기 때문에 데이터 간의 각도 차이를 기반으로 유사도를 계산함\n",
        "\n"
      ],
      "metadata": {
        "id": "r9h-F2iW-_OO"
      }
    },
    {
      "cell_type": "code",
      "source": [
        "import matplotlib.pyplot as plt\n",
        "\n",
        "def show_similar_images(similar_images):\n",
        "    fig, axes = plt.subplots(2, 5, figsize=(12, 6))\n",
        "    for i, ax in enumerate(axes.flatten()):\n",
        "        image = similar_images[i].cpu().permute(1, 2, 0)  # 이미지의 차원 순서 변경 및 CPU로 이동\n",
        "        image = (image + 1) / 2  # 이미지를 [0, 1] 범위로 정규화\n",
        "        ax.imshow(image)\n",
        "        ax.axis('off')\n",
        "    plt.tight_layout()\n",
        "    plt.show()\n"
      ],
      "metadata": {
        "id": "gYb99y5Qfvm5"
      },
      "execution_count": null,
      "outputs": []
    },
    {
      "cell_type": "code",
      "source": [
        "# 두 특성 벡터 간의 L2거리사용\n",
        "\n",
        "import torch\n",
        "import torchvision\n",
        "import torchvision.transforms as transforms\n",
        "from PIL import Image\n",
        "import numpy as np\n",
        "\n",
        "def get_similar_images(model, image_path, num_images=10):\n",
        "    # CIFAR-10 데이터셋 불러오기\n",
        "    transform = transforms.Compose([\n",
        "        transforms.Resize((32, 32)),  # 모델이 예상하는 크기로 이미지 크기 조정\n",
        "        transforms.ToTensor(),\n",
        "        transforms.Normalize((0.5, 0.5, 0.5), (0.5, 0.5, 0.5))\n",
        "    ])\n",
        "    testset = torchvision.datasets.CIFAR10(root='./data', train=False, download=True, transform=transform)\n",
        "    testloader = torch.utils.data.DataLoader(testset, batch_size=1, shuffle=False)\n",
        "\n",
        "    # 입력 이미지 전처리\n",
        "    image = Image.open(image_path).convert(\"RGB\")\n",
        "    input_tensor = transform(image).unsqueeze(0)\n",
        "\n",
        "    # 입력 이미지를 모델이 사용하는 장치로 이동\n",
        "    device = torch.device(\"cuda\" if torch.cuda.is_available() else \"cpu\")\n",
        "    model.to(device)\n",
        "    input_tensor = input_tensor.to(device)\n",
        "\n",
        "    # 입력 이미지를 모델에 전달하여 특성 벡터 추출\n",
        "    model.eval()\n",
        "    with torch.no_grad():\n",
        "        features = model.get_activation_map(input_tensor)[-1]\n",
        "\n",
        "    # 이미지 유사도 계산\n",
        "    similarity_scores = []\n",
        "    for i, (images, labels) in enumerate(testloader):\n",
        "        images = images.to(device)\n",
        "        features_i = model.get_activation_map(images)[-1]\n",
        "        similarity_score = torch.norm(features - features_i).item()\n",
        "        similarity_scores.append((similarity_score, images[0]))\n",
        "\n",
        "    # 유사도에 따라 이미지 정렬\n",
        "    similarity_scores.sort(key=lambda x: x[0], reverse=True)  # 유사도가 높은 순서로 변경\n",
        "    similar_images = [image for _, image in similarity_scores[:num_images]]\n",
        "\n",
        "    return similar_images\n",
        "\n",
        "# 유사한 이미지 가져오기\n",
        "similar_images = get_similar_images(model, image_path, num_images=10)\n",
        "\n"
      ],
      "metadata": {
        "id": "lnqh2D3mfrNs",
        "colab": {
          "base_uri": "https://localhost:8080/"
        },
        "outputId": "249fe078-1e00-455c-87c3-4999fa1573d9"
      },
      "execution_count": null,
      "outputs": [
        {
          "output_type": "stream",
          "name": "stdout",
          "text": [
            "Files already downloaded and verified\n"
          ]
        }
      ]
    },
    {
      "cell_type": "code",
      "source": [
        "similar_images = get_similar_images(model, image_path, num_images=10)"
      ],
      "metadata": {
        "colab": {
          "base_uri": "https://localhost:8080/"
        },
        "id": "RVEEzDG8frLA",
        "outputId": "7b3bb93e-0ff6-495b-cacc-86e9d54f4ba8"
      },
      "execution_count": null,
      "outputs": [
        {
          "output_type": "stream",
          "name": "stdout",
          "text": [
            "Files already downloaded and verified\n"
          ]
        }
      ]
    },
    {
      "cell_type": "code",
      "source": [
        "show_similar_images(similar_images)"
      ],
      "metadata": {
        "id": "Zh-GyOCvfxad",
        "colab": {
          "base_uri": "https://localhost:8080/",
          "height": 295
        },
        "outputId": "9e495fe2-3b42-4a1f-b02e-f95959ed84a1"
      },
      "execution_count": null,
      "outputs": [
        {
          "output_type": "display_data",
          "data": {
            "text/plain": [
              "<Figure size 1200x600 with 10 Axes>"
            ],
            "image/png": "[encoded data removed]"
          },
          "metadata": {}
        }
      ]
    },
    {
      "cell_type": "code",
      "source": [
        "def get_similar_images(model, image_path, num_images=10):\n",
        "    # CIFAR-10 데이터셋 불러오기\n",
        "    transform = transforms.Compose([\n",
        "        transforms.Resize((32, 32)),  # 모델이 예상하는 크기로 이미지 크기 조정\n",
        "        transforms.ToTensor(),\n",
        "        transforms.Normalize((0.5, 0.5, 0.5), (0.5, 0.5, 0.5))\n",
        "    ])\n",
        "    testset = torchvision.datasets.CIFAR10(root='./data', train=False, download=True, transform=transform)\n",
        "    testloader = torch.utils.data.DataLoader(testset, batch_size=1, shuffle=False)\n",
        "\n",
        "    # 입력 이미지 전처리\n",
        "    image = Image.open(image_path).convert(\"RGB\")\n",
        "    input_tensor = transform(image).unsqueeze(0)\n",
        "\n",
        "    # 입력 이미지를 모델이 사용하는 장치로 이동\n",
        "    device = torch.device(\"cuda\" if torch.cuda.is_available() else \"cpu\")\n",
        "    model.to(device)\n",
        "    input_tensor = input_tensor.to(device)\n",
        "\n",
        "    # 입력 이미지를 모델에 전달하여 특성 벡터 추출\n",
        "    model.eval()\n",
        "    with torch.no_grad():\n",
        "        activation_maps = model.get_activation_map(input_tensor)\n",
        "        features = activation_maps[-1].squeeze()  # squeeze를 사용하여 차원 축소\n",
        "        features = features.flatten()  # 벡터화하여 크기 일치\n",
        "\n",
        "    # 이미지 유사도 계산\n",
        "    similarity_scores = []\n",
        "    for i, (images, _) in enumerate(testloader):\n",
        "        images = images.to(device)\n",
        "        activation_maps_i = model.get_activation_map(images)\n",
        "        features_i = activation_maps_i[-1].squeeze()  # squeeze를 사용하여 차원 축소\n",
        "        features_i = features_i.flatten()  # 벡터화하여 크기 일치\n",
        "        similarity_score = torch.cosine_similarity(features.unsqueeze(0), features_i.unsqueeze(0)).item()\n",
        "        similarity_scores.append((similarity_score, images[0]))\n",
        "\n",
        "    # 유사도에 따라 이미지 정렬\n",
        "    similarity_scores.sort(key=lambda x: x[0], reverse=True)\n",
        "    similar_images = [image for _, image in similarity_scores[:num_images]]\n",
        "\n",
        "    return similar_images\n",
        "\n",
        "\n",
        "# 유사한 이미지 가져오기\n",
        "similar_images = get_similar_images(model, image_path, num_images=10)\n",
        "\n"
      ],
      "metadata": {
        "id": "cHLtVj5QfrIJ",
        "colab": {
          "base_uri": "https://localhost:8080/"
        },
        "outputId": "fe15b2f9-fdb1-4f58-96f8-4bdbdf6c0708"
      },
      "execution_count": null,
      "outputs": [
        {
          "output_type": "stream",
          "name": "stdout",
          "text": [
            "Files already downloaded and verified\n"
          ]
        }
      ]
    },
    {
      "cell_type": "code",
      "source": [
        "similar_images = get_similar_images(model, image_path, num_images=10)"
      ],
      "metadata": {
        "id": "Kg3hLj20frFZ",
        "colab": {
          "base_uri": "https://localhost:8080/"
        },
        "outputId": "2a1a2677-a1ae-405c-f705-7b765aed7880"
      },
      "execution_count": null,
      "outputs": [
        {
          "output_type": "stream",
          "name": "stdout",
          "text": [
            "Files already downloaded and verified\n"
          ]
        }
      ]
    },
    {
      "cell_type": "code",
      "source": [
        "show_similar_images(similar_images)"
      ],
      "metadata": {
        "id": "Evv8oZIpfrCr",
        "colab": {
          "base_uri": "https://localhost:8080/",
          "height": 295
        },
        "outputId": "ca056963-9089-4c9b-b2f9-b31d242bc136"
      },
      "execution_count": null,
      "outputs": [
        {
          "output_type": "display_data",
          "data": {
            "text/plain": [
              "<Figure size 1200x600 with 10 Axes>"
            ],
            "image/png": "[encoded data removed]"
          },
          "metadata": {}
        }
      ]
    },
    {
      "cell_type": "code",
      "source": [
        "import torch\n",
        "import torchvision\n",
        "import torchvision.transforms as transforms\n",
        "from PIL import Image\n",
        "import numpy as np\n",
        "\n",
        "def get_similar_images_with_prob(model, image_path, num_images=10):\n",
        "    # CIFAR-10 데이터셋 불러오기\n",
        "    transform = transforms.Compose([\n",
        "        transforms.Resize((32, 32)),  # 모델이 예상하는 크기로 이미지 크기 조정\n",
        "        transforms.ToTensor(),\n",
        "        transforms.Normalize((0.5, 0.5, 0.5), (0.5, 0.5, 0.5))\n",
        "    ])\n",
        "    testset = torchvision.datasets.CIFAR10(root='./data', train=False, download=True, transform=transform)\n",
        "    testloader = torch.utils.data.DataLoader(testset, batch_size=1, shuffle=False)\n",
        "\n",
        "    # 입력 이미지 전처리\n",
        "    image = Image.open(image_path).convert(\"RGB\")\n",
        "    input_tensor = transform(image).unsqueeze(0)\n",
        "\n",
        "    # 입력 이미지를 모델이 사용하는 장치로 이동\n",
        "    device = torch.device(\"cuda\" if torch.cuda.is_available() else \"cpu\")\n",
        "    model.to(device)\n",
        "    input_tensor = input_tensor.to(device)\n",
        "\n",
        "    # 입력 이미지를 모델에 전달하여 특성 벡터 추출\n",
        "    model.eval()\n",
        "    with torch.no_grad():\n",
        "        activation_maps = model.get_activation_map(input_tensor)\n",
        "        features = activation_maps[-1].squeeze()  # squeeze를 사용하여 차원 축소\n",
        "        features = features.flatten()  # 벡터화하여 크기 일치\n",
        "\n",
        "    # 이미지 유사도 및 클래스 확률 계산\n",
        "    similarity_scores = []\n",
        "    for i, (images, labels) in enumerate(testloader):\n",
        "        images = images.to(device)\n",
        "        activation_maps_i = model.get_activation_map(images)\n",
        "        features_i = activation_maps_i[-1].squeeze()  # squeeze를 사용하여 차원 축소\n",
        "        features_i = features_i.flatten()  # 벡터화하여 크기 일치\n",
        "        similarity_score = torch.cosine_similarity(features.unsqueeze(0), features_i.unsqueeze(0)).item()\n",
        "        class_prob = torch.nn.functional.softmax(model(images), dim=1)[0, labels[0]].item()\n",
        "        similarity_scores.append((similarity_score, class_prob, images[0]))\n",
        "\n",
        "    # 유사도 및 확률에 따라 이미지 정렬\n",
        "    similarity_scores.sort(key=lambda x: x[0], reverse=True)\n",
        "    similar_images = [(image, class_prob) for _, class_prob, image in similarity_scores[:num_images]]\n",
        "\n",
        "    return similar_images\n",
        "\n",
        "# 유사한 이미지와 해당 클래스에 속할 확률 가져오기\n",
        "similar_images_with_prob = get_similar_images_with_prob(model, image_path, num_images=10)\n"
      ],
      "metadata": {
        "id": "RKkaOS7Rfq_5",
        "colab": {
          "base_uri": "https://localhost:8080/"
        },
        "outputId": "2ff54d7d-7c81-42fd-b5a1-7a196d772bbd"
      },
      "execution_count": null,
      "outputs": [
        {
          "output_type": "stream",
          "name": "stdout",
          "text": [
            "Files already downloaded and verified\n"
          ]
        }
      ]
    },
    {
      "cell_type": "code",
      "source": [
        "import matplotlib.pyplot as plt\n",
        "\n",
        "def show_similar_images_with_prob(similar_images_with_prob):\n",
        "    fig, axes = plt.subplots(2, 5, figsize=(12, 6))\n",
        "    for i, (image, class_prob) in enumerate(similar_images_with_prob):\n",
        "        image = image.permute(1, 2, 0)  # 이미지의 차원 순서 변경\n",
        "        image = (image + 1) / 2  # 이미지를 [0, 1] 범위로 정규화\n",
        "        image = image.cpu()  # 이미지를 CPU로 이동\n",
        "        ax = axes[i // 5, i % 5]\n",
        "        ax.imshow(image)\n",
        "        ax.set_title(f'Class Probability: {class_prob:.4f}')\n",
        "        ax.axis('off')\n",
        "    plt.tight_layout()\n",
        "    plt.show()\n",
        "\n",
        "# 유사한 이미지와 해당 클래스에 속할 확률 시각화\n",
        "show_similar_images_with_prob(similar_images_with_prob)\n"
      ],
      "metadata": {
        "colab": {
          "base_uri": "https://localhost:8080/",
          "height": 313
        },
        "id": "6y6yGrgl7ZyZ",
        "outputId": "a88f09b0-2a5b-40f1-fd9e-3406f7c0f7cd"
      },
      "execution_count": null,
      "outputs": [
        {
          "output_type": "display_data",
          "data": {
            "text/plain": [
              "<Figure size 1200x600 with 10 Axes>"
            ],
            "image/png": "[encoded data removed]"
          },
          "metadata": {}
        }
      ]
    }
  ],
  "metadata": {
    "accelerator": "GPU",
    "colab": {
      "machine_shape": "hm",
      "provenance": [],
      "gpuType": "T4"
    },
    "kernelspec": {
      "display_name": "Python 3",
      "name": "python3"
    },
    "language_info": {
      "name": "python"
    }
  },
  "nbformat": 4,
  "nbformat_minor": 0
}